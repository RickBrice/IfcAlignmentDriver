{
 "cells": [
  {
   "cell_type": "markdown",
   "id": "014b435b-9a75-41ab-aa75-a245cc9d8028",
   "metadata": {},
   "source": [
    "This is an example script that shows how to create and evaluate a linear placement (IfcLinearPlacement).\n",
    "The example file is from the FHWA Bridge Geometry Manual.\n",
    "We want to evaluate the coordinates at station 130+00 on the horizontal alignment. This point equations to 3000. feet from the start of the alignment.\n",
    "The expected values are X = 3137.3723 and Y = 1382.9424"
   ]
  },
  {
   "cell_type": "code",
   "execution_count": 12,
   "id": "d02e6621-16e0-42c7-ad85-1b9b15fee315",
   "metadata": {},
   "outputs": [
    {
     "name": "stdout",
     "output_type": "stream",
     "text": [
      "IfcLengthMeasure(304.8)\n",
      "(0.8923253600055562, 0.45139279113755765, 0.0, 0.0, -0.45139279113755765, 0.8923253600055562, 0.0, 0.0, 0.0, -0.0, 1.0, 0.0, 956.2710547940311, 421.5207977892708, 0.0, 1.0)\n"
     ]
    },
    {
     "data": {
      "text/plain": [
       "array([[ 8.92325360e-01,  4.51392791e-01,  0.00000000e+00,\n",
       "         0.00000000e+00],\n",
       "       [-4.51392791e-01,  8.92325360e-01,  0.00000000e+00,\n",
       "         0.00000000e+00],\n",
       "       [ 0.00000000e+00, -0.00000000e+00,  1.00000000e+00,\n",
       "         0.00000000e+00],\n",
       "       [ 9.56271055e+02,  4.21520798e+02,  0.00000000e+00,\n",
       "         1.00000000e+00]])"
      ]
     },
     "execution_count": 12,
     "metadata": {},
     "output_type": "execute_result"
    }
   ],
   "source": [
    "import ifcopenshell\n",
    "import ifcopenshell.geom\n",
    "import numpy as np\n",
    "\n",
    "# length units are in feet\n",
    "f = ifcopenshell.open(\"F:/IfcOpenShell/_build-vs2022-x64/examples/FHWA_Bridge_Geometry_Alignment_Example.ifc\")\n",
    "\n",
    "cf = 1.0\n",
    "units = f.by_type('IfcUnitAssignment')[0].Units\n",
    "for u in units:\n",
    "    if u.Dimensions.LengthExponent == 1:\n",
    "        cf = u.ConversionFactor.ValueComponent\n",
    "    \n",
    "print(cf) # need to get number from IfcLengthMeasure\n",
    "\n",
    "cc = f.by_type('IfcCompositeCurve')[0]\n",
    "pde = f.createIfcPointByDistanceExpression(DistanceAlong=f.createIfcLengthMeasure(3000.),BasisCurve=cc)\n",
    "pl = f.createIfcAxis2PlacementLinear(Location=pde)\n",
    "lp = f.createIfcLinearPlacement(RelativePlacement=pl)\n",
    "\n",
    "s = ifcopenshell.geom.settings()\n",
    "a = ifcopenshell.geom.create_shape(s,lp)\n",
    "\n",
    "# need to divide x,y,z by mapping length unit\n",
    "np.array(a.matrix).reshape((4,4))\n"
   ]
  },
  {
   "cell_type": "code",
   "execution_count": null,
   "id": "eec0b499-fb0e-4aaa-a855-a72476eb30e3",
   "metadata": {},
   "outputs": [],
   "source": []
  }
 ],
 "metadata": {
  "kernelspec": {
   "display_name": "Python 3 (ipykernel)",
   "language": "python",
   "name": "python3"
  },
  "language_info": {
   "codemirror_mode": {
    "name": "ipython",
    "version": 3
   },
   "file_extension": ".py",
   "mimetype": "text/x-python",
   "name": "python",
   "nbconvert_exporter": "python",
   "pygments_lexer": "ipython3",
   "version": "3.11.7"
  }
 },
 "nbformat": 4,
 "nbformat_minor": 5
}
