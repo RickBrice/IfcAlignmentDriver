{
 "cells": [
  {
   "cell_type": "code",
   "execution_count": 7,
   "id": "96e66f3a-fc29-4e0a-b9e6-2230d283fbb4",
   "metadata": {},
   "outputs": [
    {
     "data": {
      "text/plain": [
       "((0.04001090624686998,\n",
       "  0.9991967081510903,\n",
       "  0.002250733509105179,\n",
       "  279616.96138516767),\n",
       " (-0.9976195212670917,\n",
       "  0.040074161501207135,\n",
       "  -0.056119090929837766,\n",
       "  6213394.410758059),\n",
       " (-0.056164207179665665, 0.0, 0.9984215451560915, 230.78323119508698),\n",
       " (0.0, 0.0, 0.0, 1.0))"
      ]
     },
     "execution_count": 7,
     "metadata": {},
     "output_type": "execute_result"
    }
   ],
   "source": [
    "import ifcopenshell, ifcopenshell.geom\n",
    "f = ifcopenshell.open(\"F:/IfcAlignmentDriver/TestFiles/Alignment_only_v1.ifc\")\n",
    "inst = f.by_type('IfcGradientCurve')[1]\n",
    "pwf = ifcopenshell.ifcopenshell_wrapper.map_shape(ifcopenshell.geom.settings(),inst.wrapped_data)\n",
    "evaluator = ifcopenshell.ifcopenshell_wrapper.piecewise_function_evaluator(pwf,ifcopenshell.geom.settings())\n",
    "evaluator.evaluate(pwf.start())"
   ]
  },
  {
   "cell_type": "code",
   "execution_count": 8,
   "id": "1728adf6-046d-4aa1-970b-c3543f151410",
   "metadata": {},
   "outputs": [
    {
     "data": {
      "text/plain": [
       "((0.4223456215195195,\n",
       "  0.9064285740920542,\n",
       "  -0.003378764972156361,\n",
       "  279696.4215572853),\n",
       " (-0.9063995697698832,\n",
       "  0.42235913636317407,\n",
       "  0.007251196558159507,\n",
       "  6213050.059253027),\n",
       " (0.00799974401228783, 0.0, 0.999968001535918, 219.17023522350007),\n",
       " (0.0, 0.0, 0.0, 1.0))"
      ]
     },
     "execution_count": 8,
     "metadata": {},
     "output_type": "execute_result"
    }
   ],
   "source": [
    "evaluator.evaluate(pwf.start()+pwf.length())"
   ]
  },
  {
   "cell_type": "code",
   "execution_count": 9,
   "id": "a41b839b-f759-4b03-ac4d-f6186db22088",
   "metadata": {},
   "outputs": [
    {
     "data": {
      "text/plain": [
       "356.08414887340797"
      ]
     },
     "execution_count": 9,
     "metadata": {},
     "output_type": "execute_result"
    }
   ],
   "source": [
    "pwf.length()"
   ]
  },
  {
   "cell_type": "code",
   "execution_count": 10,
   "id": "47d231f8-f621-46b6-ad3a-de8330612e02",
   "metadata": {},
   "outputs": [
    {
     "data": {
      "text/plain": [
       "140.065923711553"
      ]
     },
     "execution_count": 10,
     "metadata": {},
     "output_type": "execute_result"
    }
   ],
   "source": [
    "pwf.start()"
   ]
  },
  {
   "cell_type": "code",
   "execution_count": 11,
   "id": "b6dec84c-9f6c-4f10-b8fb-621bc867b8d7",
   "metadata": {},
   "outputs": [
    {
     "data": {
      "text/plain": [
       "<ifcopenshell.ifcopenshell_wrapper.item; proxy of <Swig Object of type 'std::shared_ptr< ifcopenshell::geometry::taxonomy::item > *' at 0x000002DEE70AE400> >"
      ]
     },
     "execution_count": 11,
     "metadata": {},
     "output_type": "execute_result"
    }
   ],
   "source": [
    "evaluator.evaluate()"
   ]
  },
  {
   "cell_type": "code",
   "execution_count": null,
   "id": "0707197c-a912-4a51-86cd-931649f660ec",
   "metadata": {},
   "outputs": [],
   "source": []
  }
 ],
 "metadata": {
  "kernelspec": {
   "display_name": "Python 3 (ipykernel)",
   "language": "python",
   "name": "python3"
  },
  "language_info": {
   "codemirror_mode": {
    "name": "ipython",
    "version": 3
   },
   "file_extension": ".py",
   "mimetype": "text/x-python",
   "name": "python",
   "nbconvert_exporter": "python",
   "pygments_lexer": "ipython3",
   "version": "3.11.7"
  }
 },
 "nbformat": 4,
 "nbformat_minor": 5
}
