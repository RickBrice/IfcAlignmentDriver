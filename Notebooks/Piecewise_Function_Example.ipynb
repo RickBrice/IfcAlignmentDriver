{
 "cells": [
  {
   "cell_type": "code",
   "execution_count": 3,
   "id": "96e66f3a-fc29-4e0a-b9e6-2230d283fbb4",
   "metadata": {},
   "outputs": [
    {
     "data": {
      "text/plain": [
       "((0.8391251129786296, 0.5437401388563751, -0.014686938586807766, 152.4),\n",
       " (-0.5436568722720269, 0.8392536335318722, 0.009515452429986564, 762.0),\n",
       " (0.0175, 0.0, 0.999846863274572, 30.48),\n",
       " (0.0, 0.0, 0.0, 1.0))"
      ]
     },
     "execution_count": 3,
     "metadata": {},
     "output_type": "execute_result"
    }
   ],
   "source": [
    "import ifcopenshell, ifcopenshell.geom\n",
    "#f = ifcopenshell.open(\"F:/IfcAlignmentDriver/TestFiles/Alignment_only_v1.ifc\")\n",
    "f = ifcopenshell.open(\"F:/IfcAlignmentDriver/TestFiles/FHWA_Bridge_Geometry_Alignment_Bridge_1.ifc\")\n",
    "inst = f.by_type('IfcGradientCurve')[0]\n",
    "pwf = ifcopenshell.ifcopenshell_wrapper.map_shape(ifcopenshell.geom.settings(),inst.wrapped_data)\n",
    "evaluator = ifcopenshell.ifcopenshell_wrapper.piecewise_function_evaluator(pwf,ifcopenshell.geom.settings())\n",
    "evaluator.evaluate(pwf.start())"
   ]
  },
  {
   "cell_type": "code",
   "execution_count": 4,
   "id": "1728adf6-046d-4aa1-970b-c3543f151410",
   "metadata": {},
   "outputs": [
    {
     "data": {
      "text/plain": [
       "((0.3262149279767518,\n",
       "  0.9452942189044268,\n",
       "  0.0016310950286990487,\n",
       "  2568.9138868491136),\n",
       " (-0.9452824026528385,\n",
       "  0.32621900573980966,\n",
       "  -0.004726471094522134,\n",
       "  1481.4225249689146),\n",
       " (-0.005000000000000001, 0.0, 0.9999874999218741, 29.27437951219139),\n",
       " (0.0, 0.0, 0.0, 1.0))"
      ]
     },
     "execution_count": 4,
     "metadata": {},
     "output_type": "execute_result"
    }
   ],
   "source": [
    "evaluator.evaluate(pwf.start()+pwf.length())"
   ]
  },
  {
   "cell_type": "code",
   "execution_count": 5,
   "id": "a41b839b-f759-4b03-ac4d-f6186db22088",
   "metadata": {},
   "outputs": [
    {
     "data": {
      "text/plain": [
       "3532.9587974773744"
      ]
     },
     "execution_count": 5,
     "metadata": {},
     "output_type": "execute_result"
    }
   ],
   "source": [
    "pwf.length()"
   ]
  },
  {
   "cell_type": "code",
   "execution_count": 6,
   "id": "47d231f8-f621-46b6-ad3a-de8330612e02",
   "metadata": {},
   "outputs": [
    {
     "data": {
      "text/plain": [
       "0.0"
      ]
     },
     "execution_count": 6,
     "metadata": {},
     "output_type": "execute_result"
    }
   ],
   "source": [
    "pwf.start()"
   ]
  },
  {
   "cell_type": "code",
   "execution_count": 7,
   "id": "b6dec84c-9f6c-4f10-b8fb-621bc867b8d7",
   "metadata": {},
   "outputs": [
    {
     "data": {
      "text/plain": [
       "<ifcopenshell.ifcopenshell_wrapper.item; proxy of <Swig Object of type 'std::shared_ptr< ifcopenshell::geometry::taxonomy::item > *' at 0x0000015F359340F0> >"
      ]
     },
     "execution_count": 7,
     "metadata": {},
     "output_type": "execute_result"
    }
   ],
   "source": [
    "evaluator.evaluate()"
   ]
  },
  {
   "cell_type": "code",
   "execution_count": 8,
   "id": "0707197c-a912-4a51-86cd-931649f660ec",
   "metadata": {},
   "outputs": [
    {
     "data": {
      "text/plain": [
       "((0.8391251129786296,\n",
       "  0.5437401388563751,\n",
       "  -0.014686938586807766,\n",
       "  144.0074636646813),\n",
       " (-0.5436568722720269,\n",
       "  0.8392536335318722,\n",
       "  0.009515452429986564,\n",
       "  767.4374013885638),\n",
       " (0.0175, 0.0, 0.999846863274572, 30.304973196968522),\n",
       " (0.0, 0.0, 0.0, 1.0))"
      ]
     },
     "execution_count": 8,
     "metadata": {},
     "output_type": "execute_result"
    }
   ],
   "source": [
    "evaluator.evaluate(-10.0)"
   ]
  },
  {
   "cell_type": "code",
   "execution_count": 9,
   "id": "3e326cf7-8a7d-44f4-a45d-253ec3341326",
   "metadata": {},
   "outputs": [
    {
     "data": {
      "text/plain": [
       "((0.29338142565965364,\n",
       "  0.955994344757117,\n",
       "  0.0014669254649811855,\n",
       "  2572.0122152910185),\n",
       " (-0.9559823947531195,\n",
       "  0.29338509299623705,\n",
       "  -0.004779971723785586,\n",
       "  1471.9151371948856),\n",
       " (-0.005000000000000001, 0.0, 0.9999874999218741, 29.22437888717967),\n",
       " (0.0, 0.0, 0.0, 1.0))"
      ]
     },
     "execution_count": 9,
     "metadata": {},
     "output_type": "execute_result"
    }
   ],
   "source": [
    "evaluator.evaluate(pwf.start()+pwf.length()+10.0)"
   ]
  },
  {
   "cell_type": "code",
   "execution_count": null,
   "id": "c8c0004c-33c8-454e-b894-8ad557f7237d",
   "metadata": {},
   "outputs": [],
   "source": []
  }
 ],
 "metadata": {
  "kernelspec": {
   "display_name": "Python 3 (ipykernel)",
   "language": "python",
   "name": "python3"
  },
  "language_info": {
   "codemirror_mode": {
    "name": "ipython",
    "version": 3
   },
   "file_extension": ".py",
   "mimetype": "text/x-python",
   "name": "python",
   "nbconvert_exporter": "python",
   "pygments_lexer": "ipython3",
   "version": "3.11.7"
  }
 },
 "nbformat": 4,
 "nbformat_minor": 5
}
