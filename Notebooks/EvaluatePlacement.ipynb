{
 "cells": [
  {
   "cell_type": "code",
   "execution_count": 1,
   "id": "57bbac35-bfe9-44c1-bab9-3916e6438f85",
   "metadata": {},
   "outputs": [
    {
     "name": "stdout",
     "output_type": "stream",
     "text": [
      "[[-1.02623338e-01 -9.94719393e-01 -1.33444138e-03  1.76825136e+01]\n",
      " [ 9.94635307e-01 -1.02632013e-01  1.29335348e-02  9.83929978e+01]\n",
      " [-1.30021943e-02  0.00000000e+00  9.99915468e-01  5.44918337e+01]\n",
      " [ 0.00000000e+00  0.00000000e+00  0.00000000e+00  1.00000000e+00]]\n"
     ]
    }
   ],
   "source": [
    "import ifcopenshell, ifcopenshell.geom\n",
    "import numpy\n",
    "\n",
    "f = ifcopenshell.open(\"F:/IfcAlignmentDriver/TestFiles/Viadotto_Acerno_ADD2_rn7jkRY.ifc\")\n",
    "\n",
    "def evaluate_curve_at(alignment, curve, distance_along):\n",
    "    context = [a for a in f.by_type(\"IfcGeometricRepresentationContext\") if a[0] == \"Body\"][0]\n",
    "    rep = f.createIfcProductDefinitionShape(\n",
    "        Representations=[\n",
    "            f.createIfcShapeRepresentation(\n",
    "                context,\n",
    "                \"Body\",\n",
    "                \"CSG\",\n",
    "                Items=[\n",
    "                    f.createIfcBlock(\n",
    "                        f.createIfcAxis2Placement3D(f.createIfcCartesianPoint((0.0, 0.0, 0.0))),\n",
    "                        0.1,\n",
    "                        0.3,\n",
    "                        1.0,\n",
    "                    )\n",
    "                ],\n",
    "            )\n",
    "        ]\n",
    "    )\n",
    "    ax = f.createIfcAxis2PlacementLinear(\n",
    "        f.createIfcPointByDistanceExpression(f.createIfcLengthMeasure(distance_along), BasisCurve=curve)\n",
    "    )\n",
    "    pl = f.createIfcLinearPlacement(alignment.ObjectPlacement, ax)\n",
    "    product = f.createIfcBuildingElementProxy(ifcopenshell.guid.new(), ObjectPlacement=pl, Representation=rep)\n",
    "    shp = ifcopenshell.geom.create_shape(ifcopenshell.geom.settings(), product)\n",
    "    return numpy.array(shp.transformation.matrix).reshape(4, 4).T\n",
    "\n",
    "print(evaluate_curve_at(alignment=f[192207], curve=f[192443], distance_along=100.0))\n"
   ]
  },
  {
   "cell_type": "code",
   "execution_count": null,
   "id": "f0fda32e-5407-46f4-b7d0-f7e264b19f15",
   "metadata": {},
   "outputs": [],
   "source": []
  }
 ],
 "metadata": {
  "kernelspec": {
   "display_name": "Python 3 (ipykernel)",
   "language": "python",
   "name": "python3"
  },
  "language_info": {
   "codemirror_mode": {
    "name": "ipython",
    "version": 3
   },
   "file_extension": ".py",
   "mimetype": "text/x-python",
   "name": "python",
   "nbconvert_exporter": "python",
   "pygments_lexer": "ipython3",
   "version": "3.12.1"
  }
 },
 "nbformat": 4,
 "nbformat_minor": 5
}
