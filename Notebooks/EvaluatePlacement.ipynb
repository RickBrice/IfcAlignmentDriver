{
 "cells": [
  {
   "cell_type": "code",
   "execution_count": 1,
   "id": "57bbac35-bfe9-44c1-bab9-3916e6438f85",
   "metadata": {},
   "outputs": [
    {
     "name": "stdout",
     "output_type": "stream",
     "text": [
      "#2714=IfcDirection((-0.00110764345921695,-0.289782067028521,0.957092015824312))\n"
     ]
    },
    {
     "ename": "AttributeError",
     "evalue": "module 'ifcopenshell' has no attribute 'guid'",
     "output_type": "error",
     "traceback": [
      "\u001b[1;31m---------------------------------------------------------------------------\u001b[0m",
      "\u001b[1;31mAttributeError\u001b[0m                            Traceback (most recent call last)",
      "Cell \u001b[1;32mIn[1], line 35\u001b[0m\n\u001b[0;32m     32\u001b[0m     \u001b[38;5;28;01mreturn\u001b[39;00m numpy\u001b[38;5;241m.\u001b[39marray(shp\u001b[38;5;241m.\u001b[39mtransformation\u001b[38;5;241m.\u001b[39mmatrix)\u001b[38;5;241m.\u001b[39mreshape(\u001b[38;5;241m4\u001b[39m, \u001b[38;5;241m4\u001b[39m)\u001b[38;5;241m.\u001b[39mT\n\u001b[0;32m     34\u001b[0m \u001b[38;5;28mprint\u001b[39m(f[\u001b[38;5;241m2714\u001b[39m])\n\u001b[1;32m---> 35\u001b[0m m4 \u001b[38;5;241m=\u001b[39m \u001b[43mevaluate_curve_at\u001b[49m\u001b[43m(\u001b[49m\u001b[43malignment\u001b[49m\u001b[38;5;241;43m=\u001b[39;49m\u001b[43mf\u001b[49m\u001b[43m[\u001b[49m\u001b[38;5;241;43m2494\u001b[39;49m\u001b[43m]\u001b[49m\u001b[43m,\u001b[49m\u001b[43m \u001b[49m\u001b[43mcurve\u001b[49m\u001b[38;5;241;43m=\u001b[39;49m\u001b[43mf\u001b[49m\u001b[43m[\u001b[49m\u001b[38;5;241;43m2617\u001b[39;49m\u001b[43m]\u001b[49m\u001b[43m,\u001b[49m\u001b[43m \u001b[49m\u001b[43maxis\u001b[49m\u001b[38;5;241;43m=\u001b[39;49m\u001b[43mf\u001b[49m\u001b[43m[\u001b[49m\u001b[38;5;241;43m2714\u001b[39;49m\u001b[43m]\u001b[49m\u001b[43m,\u001b[49m\u001b[43m \u001b[49m\u001b[43mdistance_along\u001b[49m\u001b[38;5;241;43m=\u001b[39;49m\u001b[38;5;241;43m425.0\u001b[39;49m\u001b[43m)\u001b[49m\n\u001b[0;32m     36\u001b[0m \u001b[38;5;28mprint\u001b[39m(\u001b[38;5;124m\"\u001b[39m\u001b[38;5;124mDet = \u001b[39m\u001b[38;5;124m\"\u001b[39m,numpy\u001b[38;5;241m.\u001b[39mlinalg\u001b[38;5;241m.\u001b[39mdet(m4))\n\u001b[0;32m     37\u001b[0m \u001b[38;5;28mprint\u001b[39m(m4)\n",
      "Cell \u001b[1;32mIn[1], line 30\u001b[0m, in \u001b[0;36mevaluate_curve_at\u001b[1;34m(alignment, curve, axis, distance_along)\u001b[0m\n\u001b[0;32m     26\u001b[0m ax \u001b[38;5;241m=\u001b[39m f\u001b[38;5;241m.\u001b[39mcreateIfcAxis2PlacementLinear(\n\u001b[0;32m     27\u001b[0m     f\u001b[38;5;241m.\u001b[39mcreateIfcPointByDistanceExpression(f\u001b[38;5;241m.\u001b[39mcreateIfcLengthMeasure(distance_along), BasisCurve\u001b[38;5;241m=\u001b[39mcurve), Axis\u001b[38;5;241m=\u001b[39maxis\n\u001b[0;32m     28\u001b[0m )\n\u001b[0;32m     29\u001b[0m pl \u001b[38;5;241m=\u001b[39m f\u001b[38;5;241m.\u001b[39mcreateIfcLinearPlacement(alignment\u001b[38;5;241m.\u001b[39mObjectPlacement, ax)\n\u001b[1;32m---> 30\u001b[0m product \u001b[38;5;241m=\u001b[39m f\u001b[38;5;241m.\u001b[39mcreateIfcBuildingElementProxy(\u001b[43mifcopenshell\u001b[49m\u001b[38;5;241;43m.\u001b[39;49m\u001b[43mguid\u001b[49m\u001b[38;5;241m.\u001b[39mnew(), ObjectPlacement\u001b[38;5;241m=\u001b[39mpl, Representation\u001b[38;5;241m=\u001b[39mrep)\n\u001b[0;32m     31\u001b[0m shp \u001b[38;5;241m=\u001b[39m ifcopenshell\u001b[38;5;241m.\u001b[39mgeom\u001b[38;5;241m.\u001b[39mcreate_shape(ifcopenshell\u001b[38;5;241m.\u001b[39mgeom\u001b[38;5;241m.\u001b[39msettings(), product)\n\u001b[0;32m     32\u001b[0m \u001b[38;5;28;01mreturn\u001b[39;00m numpy\u001b[38;5;241m.\u001b[39marray(shp\u001b[38;5;241m.\u001b[39mtransformation\u001b[38;5;241m.\u001b[39mmatrix)\u001b[38;5;241m.\u001b[39mreshape(\u001b[38;5;241m4\u001b[39m, \u001b[38;5;241m4\u001b[39m)\u001b[38;5;241m.\u001b[39mT\n",
      "\u001b[1;31mAttributeError\u001b[0m: module 'ifcopenshell' has no attribute 'guid'"
     ]
    }
   ],
   "source": [
    "import ifcopenshell, ifcopenshell.geom\n",
    "import numpy\n",
    "\n",
    "#f = ifcopenshell.open(\"F:/IfcAlignmentDriver/TestFiles/Viadotto_Acerno_ADD2_rn7jkRY.ifc\")\n",
    "f = ifcopenshell.open(\"F:/IFC4.x-IF/IFC-files/Linear-placement-sleepers/ACCA/ACCA_sleepers-linear-placement-cant-explicit.ifc\")\n",
    "\n",
    "def evaluate_curve_at(alignment, curve, axis, distance_along):\n",
    "    context = [a for a in f.by_type(\"IfcGeometricRepresentationContext\") if a[0] == \"Body\"][0]\n",
    "    rep = f.createIfcProductDefinitionShape(\n",
    "        Representations=[\n",
    "            f.createIfcShapeRepresentation(\n",
    "                context,\n",
    "                \"Body\",\n",
    "                \"CSG\",\n",
    "                Items=[\n",
    "                    f.createIfcBlock(\n",
    "                        f.createIfcAxis2Placement3D(f.createIfcCartesianPoint((0.0, 0.0, 0.0))),\n",
    "                        0.1,\n",
    "                        0.3,\n",
    "                        1.0,\n",
    "                    )\n",
    "                ],\n",
    "            )\n",
    "        ]\n",
    "    )\n",
    "    ax = f.createIfcAxis2PlacementLinear(\n",
    "        f.createIfcPointByDistanceExpression(f.createIfcLengthMeasure(distance_along), BasisCurve=curve), Axis=axis\n",
    "    )\n",
    "    pl = f.createIfcLinearPlacement(alignment.ObjectPlacement, ax)\n",
    "    product = f.createIfcBuildingElementProxy(ifcopenshell.guid.new(), ObjectPlacement=pl, Representation=rep)\n",
    "    shp = ifcopenshell.geom.create_shape(ifcopenshell.geom.settings(), product)\n",
    "    return numpy.array(shp.transformation.matrix).reshape(4, 4).T\n",
    "\n",
    "print(f[2714])\n",
    "m4 = evaluate_curve_at(alignment=f[2494], curve=f[2617], axis=f[2714], distance_along=425.0)\n",
    "print(\"Det = \",numpy.linalg.det(m4))\n",
    "print(m4)\n",
    "\n",
    "print(f[2730])\n",
    "m4 = evaluate_curve_at(alignment=f[2494], curve=f[2617], axis=f[2730], distance_along=426.0)\n",
    "print(\"Det = \",numpy.linalg.det(m4))\n",
    "print(m4)\n"
   ]
  },
  {
   "cell_type": "code",
   "execution_count": null,
   "id": "f0fda32e-5407-46f4-b7d0-f7e264b19f15",
   "metadata": {},
   "outputs": [],
   "source": []
  }
 ],
 "metadata": {
  "kernelspec": {
   "display_name": "Python 3 (ipykernel)",
   "language": "python",
   "name": "python3"
  },
  "language_info": {
   "codemirror_mode": {
    "name": "ipython",
    "version": 3
   },
   "file_extension": ".py",
   "mimetype": "text/x-python",
   "name": "python",
   "nbconvert_exporter": "python",
   "pygments_lexer": "ipython3",
   "version": "3.11.7"
  }
 },
 "nbformat": 4,
 "nbformat_minor": 5
}
