{
 "cells": [
  {
   "cell_type": "code",
   "execution_count": 16,
   "id": "57bbac35-bfe9-44c1-bab9-3916e6438f85",
   "metadata": {},
   "outputs": [
    {
     "name": "stdout",
     "output_type": "stream",
     "text": [
      "#2714=IfcDirection((-1.10764345921695E-3,-2.89782067028521E-1,9.57092015824312E-1))\n",
      "Det =  1.0000000000000002\n",
      "[[ 9.99941324e-01  4.16665461e-03 -9.99941449e-03  4.24999957e+02]\n",
      " [-4.16644629e-03  9.99991319e-01  4.16644681e-05 -3.47221833e-02]\n",
      " [ 9.99950129e-03  0.00000000e+00  9.99950004e-01  2.50000031e-01]\n",
      " [ 0.00000000e+00  0.00000000e+00  0.00000000e+00  1.00000000e+00]]\n",
      "#2730=IfcDirection((-1.15058764822606E-3,-3.01017140692677E-1,9.53618035251677E-1))\n",
      "Det =  1.0000000000000002\n",
      "[[ 9.99939849e-01  4.50665141e-03 -9.99939974e-03  4.25999947e+02]\n",
      " [-4.50642610e-03  9.99989845e-01  4.50642666e-05 -3.90577258e-02]\n",
      " [ 9.99950129e-03  6.77660238e-21  9.99950004e-01  2.60000033e-01]\n",
      " [ 0.00000000e+00  0.00000000e+00  0.00000000e+00  1.00000000e+00]]\n"
     ]
    }
   ],
   "source": [
    "import ifcopenshell, ifcopenshell.geom\n",
    "import numpy\n",
    "\n",
    "#f = ifcopenshell.open(\"F:/IfcAlignmentDriver/TestFiles/Viadotto_Acerno_ADD2_rn7jkRY.ifc\")\n",
    "f = ifcopenshell.open(\"F:/IFC4.x-IF/IFC-files/Linear-placement-sleepers/ACCA/ACCA_sleepers-linear-placement-cant-explicit.ifc\")\n",
    "\n",
    "def evaluate_curve_at(alignment, curve, axis, distance_along):\n",
    "    context = [a for a in f.by_type(\"IfcGeometricRepresentationContext\") if a[0] == \"Body\"][0]\n",
    "    rep = f.createIfcProductDefinitionShape(\n",
    "        Representations=[\n",
    "            f.createIfcShapeRepresentation(\n",
    "                context,\n",
    "                \"Body\",\n",
    "                \"CSG\",\n",
    "                Items=[\n",
    "                    f.createIfcBlock(\n",
    "                        f.createIfcAxis2Placement3D(f.createIfcCartesianPoint((0.0, 0.0, 0.0))),\n",
    "                        0.1,\n",
    "                        0.3,\n",
    "                        1.0,\n",
    "                    )\n",
    "                ],\n",
    "            )\n",
    "        ]\n",
    "    )\n",
    "    ax = f.createIfcAxis2PlacementLinear(\n",
    "        f.createIfcPointByDistanceExpression(f.createIfcLengthMeasure(distance_along), BasisCurve=curve), Axis=axis\n",
    "    )\n",
    "    pl = f.createIfcLinearPlacement(alignment.ObjectPlacement, ax)\n",
    "    product = f.createIfcBuildingElementProxy(ifcopenshell.guid.new(), ObjectPlacement=pl, Representation=rep)\n",
    "    shp = ifcopenshell.geom.create_shape(ifcopenshell.geom.settings(), product)\n",
    "    return numpy.array(shp.transformation.matrix).reshape(4, 4).T\n",
    "\n",
    "print(f[2714])\n",
    "m4 = evaluate_curve_at(alignment=f[2494], curve=f[2617], axis=f[2714], distance_along=425.0)\n",
    "print(\"Det = \",numpy.linalg.det(m4))\n",
    "print(m4)\n",
    "\n",
    "print(f[2730])\n",
    "m4 = evaluate_curve_at(alignment=f[2494], curve=f[2617], axis=f[2730], distance_along=426.0)\n",
    "print(\"Det = \",numpy.linalg.det(m4))\n",
    "print(m4)\n"
   ]
  },
  {
   "cell_type": "code",
   "execution_count": null,
   "id": "f0fda32e-5407-46f4-b7d0-f7e264b19f15",
   "metadata": {},
   "outputs": [],
   "source": []
  }
 ],
 "metadata": {
  "kernelspec": {
   "display_name": "Python 3 (ipykernel)",
   "language": "python",
   "name": "python3"
  },
  "language_info": {
   "codemirror_mode": {
    "name": "ipython",
    "version": 3
   },
   "file_extension": ".py",
   "mimetype": "text/x-python",
   "name": "python",
   "nbconvert_exporter": "python",
   "pygments_lexer": "ipython3",
   "version": "3.12.1"
  }
 },
 "nbformat": 4,
 "nbformat_minor": 5
}
