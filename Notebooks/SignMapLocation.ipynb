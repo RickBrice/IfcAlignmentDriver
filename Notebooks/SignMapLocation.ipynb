{
 "cells": [
  {
   "cell_type": "code",
   "execution_count": 7,
   "id": "dd7d52f5-aa75-499e-af89-ffc97cf8121b",
   "metadata": {},
   "outputs": [
    {
     "name": "stdout",
     "output_type": "stream",
     "text": [
      "#34=IfcSign('3Owd50Xzn5qfyyAwT7jF$U',$,'Test Sign',$,$,#41,#29,$,$)\n",
      "#41=IfcLocalPlacement($,#40)\n",
      "[[ 1.  0.  0. 30.]\n",
      " [ 0.  0. -1. 40.]\n",
      " [ 0.  1.  0. 50.]\n",
      " [ 0.  0.  0.  1.]]\n",
      "[[ 9.92916826e-01  0.00000000e+00  1.18811519e-01  1.21128882e+06]\n",
      " [ 1.18811519e-01  0.00000000e+00 -9.92916826e-01  8.88862726e+05]\n",
      " [ 0.00000000e+00  1.00000000e+00  0.00000000e+00  1.83025881e+01]\n",
      " [ 0.00000000e+00  0.00000000e+00  0.00000000e+00  1.00000000e+00]]\n",
      "30.0 40.0 50.0\n",
      "1211263.78706504 888819.444944034 -31.69731195\n",
      "18.30268805\n"
     ]
    }
   ],
   "source": [
    "import ifcopenshell\n",
    "import ifcopenshell.api.context\n",
    "import ifcopenshell.api.unit\n",
    "import ifcopenshell.api.georeference\n",
    "\n",
    "# create IFC model\n",
    "model = ifcopenshell.open(\"C:/Users/bricer/OneDrive - Washington State Department of Transportation/Desktop/GeolocatedSign.ifc\")\n",
    "sign = model.by_type(\"IfcSign\")[0]\n",
    "print(sign)\n",
    "print(sign.ObjectPlacement)\n",
    "#settings = ifcopenshell.geom.settings()\n",
    "m = ifcopenshell.util.placement.get_local_placement(sign.ObjectPlacement)\n",
    "print(m)\n",
    "print(ifcopenshell.util.geolocation.auto_local2global(model,m))\n",
    "\n",
    "x = m[0][3]\n",
    "y = m[1][3]\n",
    "z = m[2][3]\n",
    "print(x,y,z)\n",
    "conversion = model.by_type(\"IfcMapConversion\")[0]\n",
    "e = conversion.Eastings or 0\n",
    "n = conversion.Northings or 0\n",
    "h = conversion.OrthogonalHeight or 0\n",
    "xaa = conversion.XAxisAbscissa or 0\n",
    "xao = conversion.XAxisOrdinate or 0\n",
    "scale = conversion.Scale or 1\n",
    "print(e,n,h)\n"
   ]
  },
  {
   "cell_type": "code",
   "execution_count": null,
   "id": "4c7ff6f2-fc46-4e5c-b989-92fb3685ba20",
   "metadata": {},
   "outputs": [],
   "source": []
  },
  {
   "cell_type": "code",
   "execution_count": null,
   "id": "449e79b5-df12-463a-9bab-09fc707acf86",
   "metadata": {},
   "outputs": [],
   "source": []
  }
 ],
 "metadata": {
  "kernelspec": {
   "display_name": "Python 3 (ipykernel)",
   "language": "python",
   "name": "python3"
  },
  "language_info": {
   "codemirror_mode": {
    "name": "ipython",
    "version": 3
   },
   "file_extension": ".py",
   "mimetype": "text/x-python",
   "name": "python",
   "nbconvert_exporter": "python",
   "pygments_lexer": "ipython3",
   "version": "3.11.7"
  }
 },
 "nbformat": 4,
 "nbformat_minor": 5
}
