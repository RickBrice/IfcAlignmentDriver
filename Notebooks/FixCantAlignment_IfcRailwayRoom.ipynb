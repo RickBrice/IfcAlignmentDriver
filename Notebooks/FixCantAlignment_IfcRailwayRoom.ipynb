{
 "cells": [
  {
   "cell_type": "code",
   "execution_count": 1,
   "id": "07246861-6de3-4291-9645-7b33c51049b8",
   "metadata": {},
   "outputs": [
    {
     "name": "stdout",
     "output_type": "stream",
     "text": [
      "F:/IFC-Rail-Unit-Test-Reference-Code/alignment_testset/IFC-OriginalFiles/CantAlignment/BlossCurve_100.0_300_1000_1_Meter.ifc\n",
      "F:/IFC-Rail-Unit-Test-Reference-Code/alignment_testset/IFC-OriginalFiles/CantAlignment/BlossCurve_100.0_-300_-1000_1_Meter.ifc\n",
      "F:/IFC-Rail-Unit-Test-Reference-Code/alignment_testset/IFC-OriginalFiles/CantAlignment/BlossCurve_100.0_300_inf_1_Meter.ifc\n",
      "F:/IFC-Rail-Unit-Test-Reference-Code/alignment_testset/IFC-OriginalFiles/CantAlignment/BlossCurve_100.0_-300_-inf_1_Meter.ifc\n",
      "F:/IFC-Rail-Unit-Test-Reference-Code/alignment_testset/IFC-OriginalFiles/CantAlignment/BlossCurve_100.0_1000_300_1_Meter.ifc\n",
      "F:/IFC-Rail-Unit-Test-Reference-Code/alignment_testset/IFC-OriginalFiles/CantAlignment/BlossCurve_100.0_-1000_-300_1_Meter.ifc\n",
      "F:/IFC-Rail-Unit-Test-Reference-Code/alignment_testset/IFC-OriginalFiles/CantAlignment/BlossCurve_100.0_inf_300_1_Meter.ifc\n",
      "F:/IFC-Rail-Unit-Test-Reference-Code/alignment_testset/IFC-OriginalFiles/CantAlignment/BlossCurve_100.0_-inf_-300_1_Meter.ifc\n",
      "F:/IFC-Rail-Unit-Test-Reference-Code/alignment_testset/IFC-OriginalFiles/CantAlignment/ConstantCant_100.0_300_1000_1_Meter.ifc\n",
      "F:/IFC-Rail-Unit-Test-Reference-Code/alignment_testset/IFC-OriginalFiles/CantAlignment/ConstantCant_100.0_-300_-1000_1_Meter.ifc\n",
      "F:/IFC-Rail-Unit-Test-Reference-Code/alignment_testset/IFC-OriginalFiles/CantAlignment/ConstantCant_100.0_300_inf_1_Meter.ifc\n",
      "F:/IFC-Rail-Unit-Test-Reference-Code/alignment_testset/IFC-OriginalFiles/CantAlignment/ConstantCant_100.0_-300_-inf_1_Meter.ifc\n",
      "F:/IFC-Rail-Unit-Test-Reference-Code/alignment_testset/IFC-OriginalFiles/CantAlignment/ConstantCant_100.0_1000_300_1_Meter.ifc\n",
      "F:/IFC-Rail-Unit-Test-Reference-Code/alignment_testset/IFC-OriginalFiles/CantAlignment/ConstantCant_100.0_-1000_-300_1_Meter.ifc\n",
      "F:/IFC-Rail-Unit-Test-Reference-Code/alignment_testset/IFC-OriginalFiles/CantAlignment/ConstantCant_100.0_inf_300_1_Meter.ifc\n",
      "F:/IFC-Rail-Unit-Test-Reference-Code/alignment_testset/IFC-OriginalFiles/CantAlignment/ConstantCant_100.0_-inf_-300_1_Meter.ifc\n",
      "F:/IFC-Rail-Unit-Test-Reference-Code/alignment_testset/IFC-OriginalFiles/CantAlignment/CosineCurve_100.0_300_1000_1_Meter.ifc\n",
      "F:/IFC-Rail-Unit-Test-Reference-Code/alignment_testset/IFC-OriginalFiles/CantAlignment/CosineCurve_100.0_-300_-1000_1_Meter.ifc\n",
      "F:/IFC-Rail-Unit-Test-Reference-Code/alignment_testset/IFC-OriginalFiles/CantAlignment/CosineCurve_100.0_300_inf_1_Meter.ifc\n",
      "F:/IFC-Rail-Unit-Test-Reference-Code/alignment_testset/IFC-OriginalFiles/CantAlignment/CosineCurve_100.0_-300_-inf_1_Meter.ifc\n",
      "F:/IFC-Rail-Unit-Test-Reference-Code/alignment_testset/IFC-OriginalFiles/CantAlignment/CosineCurve_100.0_1000_300_1_Meter.ifc\n",
      "F:/IFC-Rail-Unit-Test-Reference-Code/alignment_testset/IFC-OriginalFiles/CantAlignment/CosineCurve_100.0_-1000_-300_1_Meter.ifc\n",
      "F:/IFC-Rail-Unit-Test-Reference-Code/alignment_testset/IFC-OriginalFiles/CantAlignment/CosineCurve_100.0_inf_300_1_Meter.ifc\n",
      "F:/IFC-Rail-Unit-Test-Reference-Code/alignment_testset/IFC-OriginalFiles/CantAlignment/CosineCurve_100.0_-inf_-300_1_Meter.ifc\n",
      "F:/IFC-Rail-Unit-Test-Reference-Code/alignment_testset/IFC-OriginalFiles/CantAlignment/HelmertCurve_100.0_300_1000_1_Meter.ifc\n",
      "F:/IFC-Rail-Unit-Test-Reference-Code/alignment_testset/IFC-OriginalFiles/CantAlignment/HelmertCurve_100.0_-300_-1000_1_Meter.ifc\n",
      "F:/IFC-Rail-Unit-Test-Reference-Code/alignment_testset/IFC-OriginalFiles/CantAlignment/HelmertCurve_100.0_300_inf_1_Meter.ifc\n",
      "F:/IFC-Rail-Unit-Test-Reference-Code/alignment_testset/IFC-OriginalFiles/CantAlignment/HelmertCurve_100.0_-300_-inf_1_Meter.ifc\n",
      "F:/IFC-Rail-Unit-Test-Reference-Code/alignment_testset/IFC-OriginalFiles/CantAlignment/HelmertCurve_100.0_1000_300_1_Meter.ifc\n",
      "F:/IFC-Rail-Unit-Test-Reference-Code/alignment_testset/IFC-OriginalFiles/CantAlignment/HelmertCurve_100.0_-1000_-300_1_Meter.ifc\n",
      "F:/IFC-Rail-Unit-Test-Reference-Code/alignment_testset/IFC-OriginalFiles/CantAlignment/HelmertCurve_100.0_inf_300_1_Meter.ifc\n",
      "F:/IFC-Rail-Unit-Test-Reference-Code/alignment_testset/IFC-OriginalFiles/CantAlignment/HelmertCurve_100.0_-inf_-300_1_Meter.ifc\n",
      "F:/IFC-Rail-Unit-Test-Reference-Code/alignment_testset/IFC-OriginalFiles/CantAlignment/LinearTransition_100.0_300_1000_1_Meter.ifc\n",
      "F:/IFC-Rail-Unit-Test-Reference-Code/alignment_testset/IFC-OriginalFiles/CantAlignment/LinearTransition_100.0_-300_-1000_1_Meter.ifc\n",
      "F:/IFC-Rail-Unit-Test-Reference-Code/alignment_testset/IFC-OriginalFiles/CantAlignment/LinearTransition_100.0_300_inf_1_Meter.ifc\n",
      "F:/IFC-Rail-Unit-Test-Reference-Code/alignment_testset/IFC-OriginalFiles/CantAlignment/LinearTransition_100.0_-300_-inf_1_Meter.ifc\n",
      "F:/IFC-Rail-Unit-Test-Reference-Code/alignment_testset/IFC-OriginalFiles/CantAlignment/LinearTransition_100.0_1000_300_1_Meter.ifc\n",
      "F:/IFC-Rail-Unit-Test-Reference-Code/alignment_testset/IFC-OriginalFiles/CantAlignment/LinearTransition_100.0_-1000_-300_1_Meter.ifc\n",
      "F:/IFC-Rail-Unit-Test-Reference-Code/alignment_testset/IFC-OriginalFiles/CantAlignment/LinearTransition_100.0_inf_300_1_Meter.ifc\n",
      "F:/IFC-Rail-Unit-Test-Reference-Code/alignment_testset/IFC-OriginalFiles/CantAlignment/LinearTransition_100.0_-inf_-300_1_Meter.ifc\n",
      "F:/IFC-Rail-Unit-Test-Reference-Code/alignment_testset/IFC-OriginalFiles/CantAlignment/SineCurve_100.0_300_1000_1_Meter.ifc\n",
      "F:/IFC-Rail-Unit-Test-Reference-Code/alignment_testset/IFC-OriginalFiles/CantAlignment/SineCurve_100.0_-300_-1000_1_Meter.ifc\n",
      "F:/IFC-Rail-Unit-Test-Reference-Code/alignment_testset/IFC-OriginalFiles/CantAlignment/SineCurve_100.0_300_inf_1_Meter.ifc\n",
      "F:/IFC-Rail-Unit-Test-Reference-Code/alignment_testset/IFC-OriginalFiles/CantAlignment/SineCurve_100.0_-300_-inf_1_Meter.ifc\n",
      "F:/IFC-Rail-Unit-Test-Reference-Code/alignment_testset/IFC-OriginalFiles/CantAlignment/SineCurve_100.0_1000_300_1_Meter.ifc\n",
      "F:/IFC-Rail-Unit-Test-Reference-Code/alignment_testset/IFC-OriginalFiles/CantAlignment/SineCurve_100.0_-1000_-300_1_Meter.ifc\n",
      "F:/IFC-Rail-Unit-Test-Reference-Code/alignment_testset/IFC-OriginalFiles/CantAlignment/SineCurve_100.0_inf_300_1_Meter.ifc\n",
      "F:/IFC-Rail-Unit-Test-Reference-Code/alignment_testset/IFC-OriginalFiles/CantAlignment/SineCurve_100.0_-inf_-300_1_Meter.ifc\n",
      "Done\n"
     ]
    }
   ],
   "source": [
    "# This script takes the cant alignments defined in the railway room and updates the B2G mapping\n",
    "# since it is in error\n",
    "import ifcopenshell\n",
    "import ifcopenshell.api.alignment\n",
    "\n",
    "curve_types = [\"BlossCurve\",\"ConstantCant\",\"CosineCurve\",\"HelmertCurve\",\"LinearTransition\",\"SineCurve\"]#,\"VienneseBend\"]\n",
    "for curve_type in curve_types:\n",
    "    test_cases = []\n",
    "    test_cases.append(curve_type + \"_100.0_300_1000_1_Meter\")\n",
    "    test_cases.append(curve_type + \"_100.0_-300_-1000_1_Meter\")\n",
    "    test_cases.append(curve_type + \"_100.0_300_inf_1_Meter\")\n",
    "    test_cases.append(curve_type + \"_100.0_-300_-inf_1_Meter\")\n",
    "    test_cases.append(curve_type + \"_100.0_1000_300_1_Meter\")\n",
    "    test_cases.append(curve_type + \"_100.0_-1000_-300_1_Meter\")\n",
    "    test_cases.append(curve_type + \"_100.0_inf_300_1_Meter\")\n",
    "    test_cases.append(curve_type + \"_100.0_-inf_-300_1_Meter\")\n",
    "    \n",
    "    for test_case in test_cases:\n",
    "        filename = \"F:/IFC-Rail-Unit-Test-Reference-Code/alignment_testset/IFC-OriginalFiles/CantAlignment/\" + test_case + \".ifc\"\n",
    "        print(filename)\n",
    "        model = ifcopenshell.open(filename)\n",
    "        alignment = model.by_type(\"IfcAlignment\")[0]\n",
    "        ifcopenshell.api.alignment.create_geometric_representation(model,alignment)\n",
    "        output_file = \"F:/IFC-Rail-Unit-Test-Reference-Code/alignment_testset/IFC-WithFixedGeneratedGeometry/GENERATED__CantAlignment_\" + test_case + \".ifc\"\n",
    "        model.write(output_file)\n",
    "\n",
    "\n",
    "print(\"Done\")"
   ]
  },
  {
   "cell_type": "code",
   "execution_count": null,
   "id": "205cda4e-6694-46db-a565-291cebab9f02",
   "metadata": {},
   "outputs": [],
   "source": []
  },
  {
   "cell_type": "code",
   "execution_count": null,
   "id": "1df07eca-3997-4588-9960-c9e0d70589e9",
   "metadata": {},
   "outputs": [],
   "source": []
  }
 ],
 "metadata": {
  "kernelspec": {
   "display_name": "Python 3 (ipykernel)",
   "language": "python",
   "name": "python3"
  },
  "language_info": {
   "codemirror_mode": {
    "name": "ipython",
    "version": 3
   },
   "file_extension": ".py",
   "mimetype": "text/x-python",
   "name": "python",
   "nbconvert_exporter": "python",
   "pygments_lexer": "ipython3",
   "version": "3.11.7"
  }
 },
 "nbformat": 4,
 "nbformat_minor": 5
}
