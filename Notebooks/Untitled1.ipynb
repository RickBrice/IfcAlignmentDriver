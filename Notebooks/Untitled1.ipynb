{
 "cells": [
  {
   "cell_type": "code",
   "execution_count": 1,
   "id": "2070ca1d-6cc2-4657-9cb0-ac0e0d22be3b",
   "metadata": {},
   "outputs": [
    {
     "ename": "ModuleNotFoundError",
     "evalue": "No module named 'ifctester'",
     "output_type": "error",
     "traceback": [
      "\u001b[1;31m---------------------------------------------------------------------------\u001b[0m",
      "\u001b[1;31mModuleNotFoundError\u001b[0m                       Traceback (most recent call last)",
      "Cell \u001b[1;32mIn[1], line 2\u001b[0m\n\u001b[0;32m      1\u001b[0m \u001b[38;5;28;01mimport\u001b[39;00m \u001b[38;5;21;01mifcopenshell\u001b[39;00m\n\u001b[1;32m----> 2\u001b[0m \u001b[38;5;28;01mfrom\u001b[39;00m \u001b[38;5;21;01mifctester\u001b[39;00m \u001b[38;5;28;01mimport\u001b[39;00m ids, reporter\n\u001b[0;32m      3\u001b[0m \u001b[38;5;66;03m# create new IDS\u001b[39;00m\n\u001b[0;32m      4\u001b[0m my_ids \u001b[38;5;241m=\u001b[39m ids\u001b[38;5;241m.\u001b[39mIds(title\u001b[38;5;241m=\u001b[39m\u001b[38;5;124m\"\u001b[39m\u001b[38;5;124mmitchIDS\u001b[39m\u001b[38;5;124m\"\u001b[39m)\n",
      "\u001b[1;31mModuleNotFoundError\u001b[0m: No module named 'ifctester'"
     ]
    }
   ],
   "source": [
    "import ifcopenshell\n",
    "from ifctester import ids, reporter\n",
    "# create new IDS\n",
    "my_ids = ids.Ids(title=\"mitchIDS\")\n",
    "\n",
    "# add specification to it\n",
    "my_spec = ids.Specification(name=\"My third specification\")\n",
    "my_spec.applicability.append(ids.Entity(name=\"IfcWindow\"))\n",
    "property = ids.Property(\n",
    "    baseName=\"IsExternal\",\n",
    "    value=\"TRUE\",\n",
    "    propertySet=\"Pset_WindowCommon\",\n",
    "    dataType=\"IfcBoolean\",\n",
    "    uri=\"https://identifier.buildingsmart.org/uri/.../prop/IsExternal\",\n",
    "    instructions=\"Windows need to be externally facing.\",\n",
    "    cardinality=\"required\")\n",
    "my_spec.requirements.append(property)\n",
    "my_ids.specifications.append(my_spec)\n",
    "\n",
    "my_spec_2 = ids.Specification(name=\"My fourth specification\")\n",
    "my_spec_2.applicability.append(ids.Entity(name=\"IFCWALL\"))\n",
    "property = ids.Property(\n",
    "    baseName=\"LoadBearing\",\n",
    "    value=\"TRUE\",\n",
    "    propertySet=\"Pset_WallCommon\",\n",
    "    dataType=\"IfcBoolean\",\n",
    "    uri=\"https://identifier.buildingsmart.org/uri/.../prop/LoadBearing\",\n",
    "    instructions=\"Walls need to be load bearing.\",\n",
    "    cardinality=\"required\")\n",
    "my_spec_2.requirements.append(property)\n",
    "my_ids.specifications.append(my_spec_2)"
   ]
  },
  {
   "cell_type": "code",
   "execution_count": null,
   "id": "1d94d6d6-c0e0-48bb-8d0e-ab8b942f65a5",
   "metadata": {},
   "outputs": [],
   "source": []
  }
 ],
 "metadata": {
  "kernelspec": {
   "display_name": "Python 3 (ipykernel)",
   "language": "python",
   "name": "python3"
  },
  "language_info": {
   "codemirror_mode": {
    "name": "ipython",
    "version": 3
   },
   "file_extension": ".py",
   "mimetype": "text/x-python",
   "name": "python",
   "nbconvert_exporter": "python",
   "pygments_lexer": "ipython3",
   "version": "3.11.7"
  }
 },
 "nbformat": 4,
 "nbformat_minor": 5
}
