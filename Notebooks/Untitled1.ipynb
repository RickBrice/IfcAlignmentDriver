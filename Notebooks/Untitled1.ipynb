{
 "cells": [
  {
   "cell_type": "code",
   "execution_count": 2,
   "id": "1843d607-fd0b-4ec2-b4eb-8d8f767ad846",
   "metadata": {},
   "outputs": [
    {
     "name": "stdout",
     "output_type": "stream",
     "text": [
      "#34=IfcCurveSegment(.CONTSAMEGRADIENT.,#33,IfcLengthMeasure(0.),IfcLengthMeasure(1956.785654),#31)\n",
      "#43=IfcCurveSegment(.CONTSAMEGRADIENT.,#42,IfcLengthMeasure(0.),IfcLengthMeasure(1919.222667),#40)\n",
      "#52=IfcCurveSegment(.CONTSAMEGRADIENT.,#51,IfcLengthMeasure(0.),IfcLengthMeasure(1886.905454),#49)\n",
      "#61=IfcCurveSegment(.CONTSAMEGRADIENT.,#60,IfcLengthMeasure(0.),IfcLengthMeasure(-1848.115835),#58)\n",
      "#70=IfcCurveSegment(.CONTSAMEGRADIENT.,#69,IfcLengthMeasure(0.),IfcLengthMeasure(1564.635765),#67)\n",
      "#79=IfcCurveSegment(.CONTSAMEGRADIENT.,#78,IfcLengthMeasure(0.),IfcLengthMeasure(-1049.119737),#76)\n",
      "#88=IfcCurveSegment(.CONTSAMEGRADIENT.,#87,IfcLengthMeasure(0.),IfcLengthMeasure(2112.285084),#85)\n",
      "#97=IfcCurveSegment(.DISCONTINUOUS.,#96,IfcLengthMeasure(0.),IfcLengthMeasure(0.),#94)\n"
     ]
    },
    {
     "ename": "RuntimeError",
     "evalue": "An unknown error occurred",
     "output_type": "error",
     "traceback": [
      "\u001b[1;31m---------------------------------------------------------------------------\u001b[0m",
      "\u001b[1;31mRuntimeError\u001b[0m                              Traceback (most recent call last)",
      "\u001b[1;32m~\\AppData\\Local\\Temp\\ipykernel_6956\\567717572.py\u001b[0m in \u001b[0;36m?\u001b[1;34m()\u001b[0m\n\u001b[0;32m      5\u001b[0m \u001b[0mmodel\u001b[0m \u001b[1;33m=\u001b[0m \u001b[0mifcopenshell\u001b[0m\u001b[1;33m.\u001b[0m\u001b[0mopen\u001b[0m\u001b[1;33m(\u001b[0m\u001b[1;34m\"F:/IfcAlignmentDriver/TestFiles/FHWA_Bridge_Geometry_Alignment_Example_Python.ifc\"\u001b[0m\u001b[1;33m)\u001b[0m\u001b[1;33m\u001b[0m\u001b[1;33m\u001b[0m\u001b[0m\n\u001b[0;32m      6\u001b[0m \u001b[0mcomp_curve\u001b[0m \u001b[1;33m=\u001b[0m \u001b[0mmodel\u001b[0m\u001b[1;33m.\u001b[0m\u001b[0mby_type\u001b[0m\u001b[1;33m(\u001b[0m\u001b[1;34m\"IfcCompositeCurve\"\u001b[0m\u001b[1;33m)\u001b[0m\u001b[1;33m[\u001b[0m\u001b[1;36m0\u001b[0m\u001b[1;33m]\u001b[0m\u001b[1;33m\u001b[0m\u001b[1;33m\u001b[0m\u001b[0m\n\u001b[0;32m      7\u001b[0m \u001b[1;32mfor\u001b[0m \u001b[0mseg\u001b[0m \u001b[1;32min\u001b[0m \u001b[0mcomp_curve\u001b[0m\u001b[1;33m.\u001b[0m\u001b[0mSegments\u001b[0m\u001b[1;33m:\u001b[0m\u001b[1;33m\u001b[0m\u001b[1;33m\u001b[0m\u001b[0m\n\u001b[0;32m      8\u001b[0m     \u001b[0mprint\u001b[0m\u001b[1;33m(\u001b[0m\u001b[0mseg\u001b[0m\u001b[1;33m)\u001b[0m\u001b[1;33m\u001b[0m\u001b[1;33m\u001b[0m\u001b[0m\n\u001b[1;32m----> 9\u001b[1;33m     \u001b[0mshape\u001b[0m \u001b[1;33m=\u001b[0m \u001b[0mifcopenshell\u001b[0m\u001b[1;33m.\u001b[0m\u001b[0mgeom\u001b[0m\u001b[1;33m.\u001b[0m\u001b[0mcreate_shape\u001b[0m\u001b[1;33m(\u001b[0m\u001b[0ms\u001b[0m\u001b[1;33m,\u001b[0m\u001b[0mseg\u001b[0m\u001b[1;33m)\u001b[0m\u001b[1;33m\u001b[0m\u001b[1;33m\u001b[0m\u001b[0m\n\u001b[0m",
      "\u001b[1;32mF:\\Python\\Python312\\Lib\\site-packages\\ifcopenshell\\geom\\main.py\u001b[0m in \u001b[0;36m?\u001b[1;34m(settings, inst, repr)\u001b[0m\n\u001b[0;32m    276\u001b[0m                 \u001b[0mprint\u001b[0m\u001b[1;33m(\u001b[0m\u001b[1;34m\"Shape creation failed\"\u001b[0m\u001b[1;33m)\u001b[0m\u001b[1;33m\u001b[0m\u001b[1;33m\u001b[0m\u001b[0m\n\u001b[0;32m    277\u001b[0m     \"\"\"\n\u001b[0;32m    278\u001b[0m     return wrap_shape_creation(\n\u001b[0;32m    279\u001b[0m         \u001b[0msettings\u001b[0m\u001b[1;33m,\u001b[0m\u001b[1;33m\u001b[0m\u001b[1;33m\u001b[0m\u001b[0m\n\u001b[1;32m--> 280\u001b[1;33m         \u001b[0mifcopenshell_wrapper\u001b[0m\u001b[1;33m.\u001b[0m\u001b[0mcreate_shape\u001b[0m\u001b[1;33m(\u001b[0m\u001b[0msettings\u001b[0m\u001b[1;33m,\u001b[0m \u001b[0minst\u001b[0m\u001b[1;33m.\u001b[0m\u001b[0mwrapped_data\u001b[0m\u001b[1;33m,\u001b[0m \u001b[0mrepr\u001b[0m\u001b[1;33m.\u001b[0m\u001b[0mwrapped_data\u001b[0m \u001b[1;32mif\u001b[0m \u001b[0mrepr\u001b[0m \u001b[1;32mis\u001b[0m \u001b[1;32mnot\u001b[0m \u001b[1;32mNone\u001b[0m \u001b[1;32melse\u001b[0m \u001b[1;32mNone\u001b[0m\u001b[1;33m)\u001b[0m\u001b[1;33m,\u001b[0m\u001b[1;33m\u001b[0m\u001b[1;33m\u001b[0m\u001b[0m\n\u001b[0m\u001b[0;32m    281\u001b[0m     \u001b[1;33m)\u001b[0m\u001b[1;33m\u001b[0m\u001b[1;33m\u001b[0m\u001b[0m\n",
      "\u001b[1;32mF:\\Python\\Python312\\Lib\\site-packages\\ifcopenshell\\ifcopenshell_wrapper.py\u001b[0m in \u001b[0;36m?\u001b[1;34m(*args)\u001b[0m\n\u001b[0;32m   6157\u001b[0m     \u001b[0mcreate_shape\u001b[0m\u001b[1;33m(\u001b[0m\u001b[0mSettings\u001b[0m \u001b[0msettings\u001b[0m\u001b[1;33m,\u001b[0m \u001b[0mentity_instance\u001b[0m \u001b[0minstance\u001b[0m\u001b[1;33m,\u001b[0m \u001b[0mentity_instance\u001b[0m \u001b[0mrepresentation\u001b[0m\u001b[1;33m=\u001b[0m\u001b[1;32mNone\u001b[0m\u001b[1;33m,\u001b[0m \u001b[0mchar\u001b[0m \u001b[0mconst\u001b[0m \u001b[1;33m*\u001b[0m\u001b[0mconst\u001b[0m \u001b[0mgeometry_library\u001b[0m\u001b[1;33m)\u001b[0m \u001b[1;33m->\u001b[0m \u001b[0mboost\u001b[0m\u001b[1;33m:\u001b[0m\u001b[1;33m:\u001b[0m\u001b[0mvariant\u001b[0m\u001b[1;33m<\u001b[0m \u001b[0mIfcGeom\u001b[0m\u001b[1;33m:\u001b[0m\u001b[1;33m:\u001b[0m\u001b[0mElement\u001b[0m \u001b[1;33m*\u001b[0m\u001b[1;33m,\u001b[0m\u001b[0mIfcGeom\u001b[0m\u001b[1;33m:\u001b[0m\u001b[1;33m:\u001b[0m\u001b[0mRepresentation\u001b[0m\u001b[1;33m:\u001b[0m\u001b[1;33m:\u001b[0m\u001b[0mRepresentation\u001b[0m \u001b[1;33m*\u001b[0m\u001b[1;33m,\u001b[0m\u001b[0mIfcGeom\u001b[0m\u001b[1;33m:\u001b[0m\u001b[1;33m:\u001b[0m\u001b[0mTransformation\u001b[0m \u001b[1;33m*\u001b[0m \u001b[1;33m>\u001b[0m\u001b[1;33m\u001b[0m\u001b[1;33m\u001b[0m\u001b[0m\n\u001b[0;32m   6158\u001b[0m     \u001b[0mcreate_shape\u001b[0m\u001b[1;33m(\u001b[0m\u001b[0mSettings\u001b[0m \u001b[0msettings\u001b[0m\u001b[1;33m,\u001b[0m \u001b[0mentity_instance\u001b[0m \u001b[0minstance\u001b[0m\u001b[1;33m,\u001b[0m \u001b[0mentity_instance\u001b[0m \u001b[0mrepresentation\u001b[0m\u001b[1;33m=\u001b[0m\u001b[1;32mNone\u001b[0m\u001b[1;33m)\u001b[0m \u001b[1;33m->\u001b[0m \u001b[0mboost\u001b[0m\u001b[1;33m:\u001b[0m\u001b[1;33m:\u001b[0m\u001b[0mvariant\u001b[0m\u001b[1;33m<\u001b[0m \u001b[0mIfcGeom\u001b[0m\u001b[1;33m:\u001b[0m\u001b[1;33m:\u001b[0m\u001b[0mElement\u001b[0m \u001b[1;33m*\u001b[0m\u001b[1;33m,\u001b[0m\u001b[0mIfcGeom\u001b[0m\u001b[1;33m:\u001b[0m\u001b[1;33m:\u001b[0m\u001b[0mRepresentation\u001b[0m\u001b[1;33m:\u001b[0m\u001b[1;33m:\u001b[0m\u001b[0mRepresentation\u001b[0m \u001b[1;33m*\u001b[0m\u001b[1;33m,\u001b[0m\u001b[0mIfcGeom\u001b[0m\u001b[1;33m:\u001b[0m\u001b[1;33m:\u001b[0m\u001b[0mTransformation\u001b[0m \u001b[1;33m*\u001b[0m \u001b[1;33m>\u001b[0m\u001b[1;33m\u001b[0m\u001b[1;33m\u001b[0m\u001b[0m\n\u001b[0;32m   6159\u001b[0m     \u001b[0mcreate_shape\u001b[0m\u001b[1;33m(\u001b[0m\u001b[0mSettings\u001b[0m \u001b[0msettings\u001b[0m\u001b[1;33m,\u001b[0m \u001b[0mentity_instance\u001b[0m \u001b[0minstance\u001b[0m\u001b[1;33m)\u001b[0m \u001b[1;33m->\u001b[0m \u001b[0mboost\u001b[0m\u001b[1;33m:\u001b[0m\u001b[1;33m:\u001b[0m\u001b[0mvariant\u001b[0m\u001b[1;33m<\u001b[0m \u001b[0mIfcGeom\u001b[0m\u001b[1;33m:\u001b[0m\u001b[1;33m:\u001b[0m\u001b[0mElement\u001b[0m \u001b[1;33m*\u001b[0m\u001b[1;33m,\u001b[0m\u001b[0mIfcGeom\u001b[0m\u001b[1;33m:\u001b[0m\u001b[1;33m:\u001b[0m\u001b[0mRepresentation\u001b[0m\u001b[1;33m:\u001b[0m\u001b[1;33m:\u001b[0m\u001b[0mRepresentation\u001b[0m \u001b[1;33m*\u001b[0m\u001b[1;33m,\u001b[0m\u001b[0mIfcGeom\u001b[0m\u001b[1;33m:\u001b[0m\u001b[1;33m:\u001b[0m\u001b[0mTransformation\u001b[0m \u001b[1;33m*\u001b[0m \u001b[1;33m>\u001b[0m\u001b[1;33m\u001b[0m\u001b[1;33m\u001b[0m\u001b[0m\n\u001b[0;32m   6160\u001b[0m     \"\"\"\n\u001b[1;32m-> 6161\u001b[1;33m     \u001b[1;32mreturn\u001b[0m \u001b[0m_ifcopenshell_wrapper\u001b[0m\u001b[1;33m.\u001b[0m\u001b[0mcreate_shape\u001b[0m\u001b[1;33m(\u001b[0m\u001b[1;33m*\u001b[0m\u001b[0margs\u001b[0m\u001b[1;33m)\u001b[0m\u001b[1;33m\u001b[0m\u001b[1;33m\u001b[0m\u001b[0m\n\u001b[0m",
      "\u001b[1;31mRuntimeError\u001b[0m: An unknown error occurred"
     ]
    }
   ],
   "source": [
    "import ifcopenshell\n",
    "import ifcopenshell.geom\n",
    "\n",
    "s = ifcopenshell.geom.settings()\n",
    "model = ifcopenshell.open(\"F:/IfcAlignmentDriver/TestFiles/FHWA_Bridge_Geometry_Alignment_Example_Python.ifc\")\n",
    "comp_curve = model.by_type(\"IfcCompositeCurve\")[0]\n",
    "for seg in comp_curve.Segments:\n",
    "    print(seg)\n",
    "    shape = ifcopenshell.geom.create_shape(s,seg)\n"
   ]
  },
  {
   "cell_type": "code",
   "execution_count": null,
   "id": "4130e1ad-1e93-4bc8-80a4-4d64f200f2ba",
   "metadata": {},
   "outputs": [],
   "source": []
  }
 ],
 "metadata": {
  "kernelspec": {
   "display_name": "Python 3 (ipykernel)",
   "language": "python",
   "name": "python3"
  },
  "language_info": {
   "codemirror_mode": {
    "name": "ipython",
    "version": 3
   },
   "file_extension": ".py",
   "mimetype": "text/x-python",
   "name": "python",
   "nbconvert_exporter": "python",
   "pygments_lexer": "ipython3",
   "version": "3.12.3"
  }
 },
 "nbformat": 4,
 "nbformat_minor": 5
}
