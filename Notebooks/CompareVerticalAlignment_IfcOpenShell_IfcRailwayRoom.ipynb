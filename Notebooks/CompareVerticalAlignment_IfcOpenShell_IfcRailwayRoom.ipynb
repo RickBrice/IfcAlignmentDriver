{
 "cells": [
  {
   "cell_type": "markdown",
   "id": "8e758af5-96bc-4ef0-82da-504894c6189c",
   "metadata": {},
   "source": [
    "Creates a graphical comparison of vertical alignments from IFC-Rail-Unit-Test-Reference-Code and IfcOpenShell\n",
    "Before running this script, run the \"ConvertVerticalAlignment_IfcOpenShell_IfcRailwayRoom_US_Units\" script to generate the US unit files"
   ]
  },
  {
   "cell_type": "code",
   "execution_count": 1,
   "id": "07246861-6de3-4291-9645-7b33c51049b8",
   "metadata": {},
   "outputs": [
    {
     "ename": "FileNotFoundError",
     "evalue": "File does not exist: 'F:\\IFC-Rail-Unit-Test-Reference-Code\\alignment_testset\\IFC-WithGeneratedGeometry\\GENERATED__VerticalAlignment_CircularArc_100.0_10.0_0.0_0.5_1_Foot.ifc'.",
     "output_type": "error",
     "traceback": [
      "\u001b[1;31m---------------------------------------------------------------------------\u001b[0m",
      "\u001b[1;31mFileNotFoundError\u001b[0m                         Traceback (most recent call last)",
      "Cell \u001b[1;32mIn[1], line 25\u001b[0m\n\u001b[0;32m     22\u001b[0m si_model \u001b[38;5;241m=\u001b[39m ifcopenshell\u001b[38;5;241m.\u001b[39mopen(filename)\n\u001b[0;32m     24\u001b[0m filename \u001b[38;5;241m=\u001b[39m filename\u001b[38;5;241m.\u001b[39mreplace(\u001b[38;5;124m\"\u001b[39m\u001b[38;5;124mMeter\u001b[39m\u001b[38;5;124m\"\u001b[39m,\u001b[38;5;124m\"\u001b[39m\u001b[38;5;124mFoot\u001b[39m\u001b[38;5;124m\"\u001b[39m)\n\u001b[1;32m---> 25\u001b[0m us_model \u001b[38;5;241m=\u001b[39m \u001b[43mifcopenshell\u001b[49m\u001b[38;5;241;43m.\u001b[39;49m\u001b[43mopen\u001b[49m\u001b[43m(\u001b[49m\u001b[43mfilename\u001b[49m\u001b[43m)\u001b[49m\n\u001b[0;32m     27\u001b[0m results_file \u001b[38;5;241m=\u001b[39m \u001b[38;5;124m\"\u001b[39m\u001b[38;5;124mF:/IFC-Rail-Unit-Test-Reference-Code/alignment_testset/ToolboxProcessed/VerticalAlignment/\u001b[39m\u001b[38;5;124m\"\u001b[39m \u001b[38;5;241m+\u001b[39m curve_type \u001b[38;5;241m+\u001b[39m \u001b[38;5;124m\"\u001b[39m\u001b[38;5;124m/\u001b[39m\u001b[38;5;124m\"\u001b[39m \u001b[38;5;241m+\u001b[39m test_case \u001b[38;5;241m+\u001b[39m \u001b[38;5;124m\"\u001b[39m\u001b[38;5;124m.txt\u001b[39m\u001b[38;5;124m\"\u001b[39m\n\u001b[0;32m     28\u001b[0m \u001b[38;5;28;01mwith\u001b[39;00m \u001b[38;5;28mopen\u001b[39m(results_file,\u001b[38;5;124m'\u001b[39m\u001b[38;5;124mr\u001b[39m\u001b[38;5;124m'\u001b[39m) \u001b[38;5;28;01mas\u001b[39;00m f:\n",
      "File \u001b[1;32mD:\\IfcOpenShell\\_deps-vs2022-x64-installed\\Python311\\Lib\\site-packages\\ifcopenshell\\__init__.py:162\u001b[0m, in \u001b[0;36mopen\u001b[1;34m(path, format, should_stream)\u001b[0m\n\u001b[0;32m    160\u001b[0m path \u001b[38;5;241m=\u001b[39m Path(path)\n\u001b[0;32m    161\u001b[0m \u001b[38;5;28;01mif\u001b[39;00m \u001b[38;5;129;01mnot\u001b[39;00m path\u001b[38;5;241m.\u001b[39mexists():\n\u001b[1;32m--> 162\u001b[0m     \u001b[38;5;28;01mraise\u001b[39;00m \u001b[38;5;167;01mFileNotFoundError\u001b[39;00m(\u001b[38;5;124mf\u001b[39m\u001b[38;5;124m\"\u001b[39m\u001b[38;5;124mFile does not exist: \u001b[39m\u001b[38;5;124m'\u001b[39m\u001b[38;5;132;01m{\u001b[39;00mpath\u001b[38;5;132;01m}\u001b[39;00m\u001b[38;5;124m'\u001b[39m\u001b[38;5;124m.\u001b[39m\u001b[38;5;124m\"\u001b[39m)\n\u001b[0;32m    163\u001b[0m \u001b[38;5;28;01mif\u001b[39;00m \u001b[38;5;28mformat\u001b[39m \u001b[38;5;129;01mis\u001b[39;00m \u001b[38;5;28;01mNone\u001b[39;00m:\n\u001b[0;32m    164\u001b[0m     \u001b[38;5;28mformat\u001b[39m \u001b[38;5;241m=\u001b[39m guess_format(path)\n",
      "\u001b[1;31mFileNotFoundError\u001b[0m: File does not exist: 'F:\\IFC-Rail-Unit-Test-Reference-Code\\alignment_testset\\IFC-WithGeneratedGeometry\\GENERATED__VerticalAlignment_CircularArc_100.0_10.0_0.0_0.5_1_Foot.ifc'."
     ]
    }
   ],
   "source": [
    "import ifcopenshell\n",
    "import ifcopenshell.geom as geom\n",
    "import numpy as np\n",
    "import matplotlib.pyplot as plt\n",
    "\n",
    "#curve_types = [\"CircularArc\",\"Clothoid\",\"ConstantGradient\",\"ParabolicArc\"]\n",
    "curve_types = [\"CircularArc\",\"ConstantGradient\",\"ParabolicArc\"]\n",
    "\n",
    "for curve_type in curve_types:\n",
    "    test_cases = []\n",
    "    test_cases.append(curve_type + \"_100.0_10.0_0.0_0.5_1_Meter\")\n",
    "    test_cases.append(curve_type + \"_100.0_10.0_0.0_-0.5_1_Meter\")\n",
    "    test_cases.append(curve_type + \"_100.0_10.0_0.5_0.0_1_Meter\")\n",
    "    test_cases.append(curve_type + \"_100.0_10.0_-0.5_0.0_1_Meter\")\n",
    "    test_cases.append(curve_type + \"_100.0_10.0_0.5_1.0_1_Meter\")\n",
    "    test_cases.append(curve_type + \"_100.0_10.0_-0.5_-1.0_1_Meter\")\n",
    "    test_cases.append(curve_type + \"_100.0_10.0_1.0_0.5_1_Meter\")\n",
    "    test_cases.append(curve_type + \"_100.0_10.0_-1.0_-0.5_1_Meter\")\n",
    "    \n",
    "    for test_case in test_cases:\n",
    "        filename = \"F:/IFC-Rail-Unit-Test-Reference-Code/alignment_testset/IFC-WithGeneratedGeometry/GENERATED__VerticalAlignment_\" + test_case + \".ifc\"\n",
    "        si_model = ifcopenshell.open(filename)\n",
    "\n",
    "        filename = filename.replace(\"Meter\",\"Foot\")\n",
    "        us_model = ifcopenshell.open(filename)\n",
    "\n",
    "        results_file = \"F:/IFC-Rail-Unit-Test-Reference-Code/alignment_testset/ToolboxProcessed/VerticalAlignment/\" + curve_type + \"/\" + test_case + \".txt\"\n",
    "        with open(results_file,'r') as f:\n",
    "            lines = f.readlines()[2:] # skip the first two header lines\n",
    "        \n",
    "        x_values = []\n",
    "        z_values = []\n",
    "        for line in lines:\n",
    "            s,x,y,z = map(float,line.split())\n",
    "            x_values.append(x)\n",
    "            z_values.append(z)\n",
    "        \n",
    "        fig1 = plt.figure().add_subplot()\n",
    "        fig1.plot(x_values,z_values,label=\"IfcRailwayRoom\",linewidth=6)\n",
    "        \n",
    "        curves = [si_model.by_type(\"IfcGradientCurve\",False),us_model.by_type(\"IfcGradientCurve\",False)]\n",
    "       \n",
    "        settings = geom.settings()\n",
    "        \n",
    "        units = [\"Meter\",\"Foot\"]\n",
    "        lw = [4,2]\n",
    "        for i in range(2):\n",
    "            for curve in curves[i]:\n",
    "                shape = geom.create_shape(settings,curve)\n",
    "                verts = shape.verts\n",
    "                verts = np.array(verts).reshape((-1,3))\n",
    "                x,y,z = verts.T\n",
    "                fig1.plot(x,z,label=\"IfcOpenShell (\" + units[i] + \")\",linewidth=lw[i])\n",
    "            \n",
    "        fig1.set_title(test_case.replace(\"_Meter\",\"\"))\n",
    "        fig1.legend(loc=\"upper left\")\n",
    "        fig1.axis(\"square\")\n",
    "        fig1.set_xlabel(\"X\")\n",
    "        fig1.set_ylabel(\"Y\")\n",
    "        fig1.grid(True)\n",
    "        plt.show()\n"
   ]
  },
  {
   "cell_type": "code",
   "execution_count": null,
   "id": "205cda4e-6694-46db-a565-291cebab9f02",
   "metadata": {},
   "outputs": [],
   "source": []
  },
  {
   "cell_type": "code",
   "execution_count": null,
   "id": "1df07eca-3997-4588-9960-c9e0d70589e9",
   "metadata": {},
   "outputs": [],
   "source": []
  }
 ],
 "metadata": {
  "kernelspec": {
   "display_name": "Python 3 (ipykernel)",
   "language": "python",
   "name": "python3"
  },
  "language_info": {
   "codemirror_mode": {
    "name": "ipython",
    "version": 3
   },
   "file_extension": ".py",
   "mimetype": "text/x-python",
   "name": "python",
   "nbconvert_exporter": "python",
   "pygments_lexer": "ipython3",
   "version": "3.11.7"
  }
 },
 "nbformat": 4,
 "nbformat_minor": 5
}
