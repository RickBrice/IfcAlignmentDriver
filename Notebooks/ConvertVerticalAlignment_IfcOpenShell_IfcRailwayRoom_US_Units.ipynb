{
 "cells": [
  {
   "cell_type": "markdown",
   "id": "8e758af5-96bc-4ef0-82da-504894c6189c",
   "metadata": {},
   "source": [
    "Converts vertical alignments from IFC-Rail-Unit-Test-Reference-Code to US units"
   ]
  },
  {
   "cell_type": "code",
   "execution_count": 2,
   "id": "07246861-6de3-4291-9645-7b33c51049b8",
   "metadata": {},
   "outputs": [
    {
     "name": "stdout",
     "output_type": "stream",
     "text": [
      "Done\n"
     ]
    }
   ],
   "source": [
    "import ifcopenshell\n",
    "import ifcpatch\n",
    "\n",
    "curve_types = [\"CircularArc\",\"Clothoid\",\"ConstantGradient\",\"ParabolicArc\"]\n",
    "for curve_type in curve_types:\n",
    "    test_cases = []\n",
    "    test_cases.append(curve_type + \"_100.0_10.0_0.0_0.5_1_Meter\")\n",
    "    test_cases.append(curve_type + \"_100.0_10.0_0.0_-0.5_1_Meter\")\n",
    "    test_cases.append(curve_type + \"_100.0_10.0_0.5_0.0_1_Meter\")\n",
    "    test_cases.append(curve_type + \"_100.0_10.0_-0.5_0.0_1_Meter\")\n",
    "    test_cases.append(curve_type + \"_100.0_10.0_0.5_1.0_1_Meter\")\n",
    "    test_cases.append(curve_type + \"_100.0_10.0_-0.5_-1.0_1_Meter\")\n",
    "    test_cases.append(curve_type + \"_100.0_10.0_1.0_0.5_1_Meter\")\n",
    "    test_cases.append(curve_type + \"_100.0_10.0_-1.0_-0.5_1_Meter\")\n",
    "    \n",
    "    for test_case in test_cases:\n",
    "        filename = \"F:/IFC-Rail-Unit-Test-Reference-Code/alignment_testset/IFC-WithGeneratedGeometry/GENERATED__VerticalAlignment_\" + test_case + \".ifc\"\n",
    "        #print(filename)\n",
    "        model = ifcopenshell.open(filename)\n",
    "        output_model = ifcpatch.execute({\"input\" : filename, \"file\": model, \"recipe\": \"ConvertLengthUnit\", \"arguments\": [\"FOOT\"]})\n",
    "        output_filename = filename.replace(\"Meter\",\"Foot\")\n",
    "        #print(output_filename)\n",
    "        ifcpatch.write(output_model,output_filename)\n",
    "\n",
    "\n",
    "print(\"Done\")"
   ]
  },
  {
   "cell_type": "code",
   "execution_count": null,
   "id": "205cda4e-6694-46db-a565-291cebab9f02",
   "metadata": {},
   "outputs": [],
   "source": []
  },
  {
   "cell_type": "code",
   "execution_count": null,
   "id": "1df07eca-3997-4588-9960-c9e0d70589e9",
   "metadata": {},
   "outputs": [],
   "source": []
  }
 ],
 "metadata": {
  "kernelspec": {
   "display_name": "Python 3 (ipykernel)",
   "language": "python",
   "name": "python3"
  },
  "language_info": {
   "codemirror_mode": {
    "name": "ipython",
    "version": 3
   },
   "file_extension": ".py",
   "mimetype": "text/x-python",
   "name": "python",
   "nbconvert_exporter": "python",
   "pygments_lexer": "ipython3",
   "version": "3.11.7"
  }
 },
 "nbformat": 4,
 "nbformat_minor": 5
}
