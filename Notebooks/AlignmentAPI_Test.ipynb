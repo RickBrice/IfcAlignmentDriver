{
 "cells": [
  {
   "cell_type": "code",
   "execution_count": 2,
   "id": "c4ff29ed-6e01-4c89-ab3c-e7df5a7a437b",
   "metadata": {},
   "outputs": [
    {
     "name": "stdout",
     "output_type": "stream",
     "text": [
      "This is a test\n",
      "#49=IfcCompositeCurve((#18,#28,#38,#48),.F.)\n",
      "[[  0.           0.           0.        ]\n",
      " [  0.49946588   0.           0.        ]\n",
      " [  0.99893176   0.           0.        ]\n",
      " ...\n",
      " [199.55326413 199.10652827   0.        ]\n",
      " [199.77663207 199.55326413   0.        ]\n",
      " [200.         200.           0.        ]]\n"
     ]
    }
   ],
   "source": [
    "import ifcopenshell\n",
    "import ifcopenshell.api\n",
    "from ifcopenshell.api import run\n",
    "import ifcopenshell.alignment\n",
    "import numpy as np\n",
    "\n",
    "model = ifcopenshell.file(schema=\"IFC4X3_ADD2\")\n",
    "\n",
    "project = run(\"root.create_entity\", model, ifc_class=\"IfcProject\", name=\"Dummy\")\n",
    "\n",
    "geometric_representation_context = run(\"context.add_context\",model,context_type=\"Model\")\n",
    "axis_model_representation_subcontext = model.createIfcGeometricRepresentationSubContext(\n",
    "    ContextIdentifier=\"Axis\",\n",
    "    ContextType=\"Model\",\n",
    "    ParentContext=geometric_representation_context,\n",
    "    TargetView=\"MODEL_VIEW\")\n",
    "\n",
    "\n",
    "coordinates = [(0.0,0.0),(100.0,0.0),(200.0,200.0)]\n",
    "radii = [(50.0)]\n",
    "helper = ifcopenshell.alignment.IfcAlignmentHelper(model)\n",
    "alignment = helper.add_alignment(\"Dummy\",coordinates,radii)\n",
    "curve = alignment.Representation.Representations[0].Items[0]\n",
    "print(curve)\n",
    "#curve = model.by_type(\"IfcCompositeCurve\")[0] # because helper returns Nothing\n",
    "s = ifcopenshell.geom.settings()\n",
    "shape = ifcopenshell.geom.create_shape(s,curve)\n",
    "verts = shape.verts\n",
    "verts = np.array(verts).reshape((-1,3))\n",
    "#x,y,z = verts.T\n",
    "print(verts)"
   ]
  },
  {
   "cell_type": "code",
   "execution_count": null,
   "id": "ef86b894-db98-42a7-81e3-3f6f43a4c5a5",
   "metadata": {},
   "outputs": [],
   "source": []
  }
 ],
 "metadata": {
  "kernelspec": {
   "display_name": "Python 3 (ipykernel)",
   "language": "python",
   "name": "python3"
  },
  "language_info": {
   "codemirror_mode": {
    "name": "ipython",
    "version": 3
   },
   "file_extension": ".py",
   "mimetype": "text/x-python",
   "name": "python",
   "nbconvert_exporter": "python",
   "pygments_lexer": "ipython3",
   "version": "3.11.7"
  }
 },
 "nbformat": 4,
 "nbformat_minor": 5
}
