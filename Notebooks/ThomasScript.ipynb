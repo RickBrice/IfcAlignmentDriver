{
 "cells": [
  {
   "cell_type": "code",
   "execution_count": 1,
   "id": "e8c0e5d1-6709-4b7c-9826-933602b113c6",
   "metadata": {},
   "outputs": [
    {
     "name": "stdout",
     "output_type": "stream",
     "text": [
      "Done!\n"
     ]
    }
   ],
   "source": [
    "import ifcopenshell, ifcopenshell.geom\n",
    "f = ifcopenshell.open(\"F:/IfcAlignmentDriver/TestFiles/Viadotto_Acerno_ADD2_rn7jkRY.ifc\")\n",
    "al = f[192207]\n",
    "grad = f[192443]\n",
    "rep = f.createIfcProductDefinitionShape(Representations=[f.createIfcShapeRepresentation(f[17],'Body','CSG',Items=[f.createIfcBlock(f.createIfcAxis2Placement3D(f.createIfcCartesianPoint((0.,0.,0.))),0.1,0.3,1.0)])])\n",
    "for i in range(500):\n",
    "    ax = f.createIfcAxis2PlacementLinear(f.createIfcPointByDistanceExpression(f.createIfcLengthMeasure(float(i)), BasisCurve=grad))\n",
    "    pl = f.createIfcLinearPlacement(al.ObjectPlacement, ax)\n",
    "    f.createIfcBuildingElementProxy(\n",
    "        ifcopenshell.guid.new(),\n",
    "        Name='TEST%05d' % i,\n",
    "        ObjectPlacement=pl,\n",
    "        Representation=rep\n",
    "    )\n",
    "\n",
    "f.write(\"F:/IfcOpenshell/_installed-vs2022-x64/bin/places.ifc\")\n",
    "print(\"Done!\")\n"
   ]
  },
  {
   "cell_type": "code",
   "execution_count": null,
   "id": "ec82faef-576d-4220-9b9b-ba35ef49a490",
   "metadata": {},
   "outputs": [],
   "source": []
  }
 ],
 "metadata": {
  "kernelspec": {
   "display_name": "Python 3 (ipykernel)",
   "language": "python",
   "name": "python3"
  },
  "language_info": {
   "codemirror_mode": {
    "name": "ipython",
    "version": 3
   },
   "file_extension": ".py",
   "mimetype": "text/x-python",
   "name": "python",
   "nbconvert_exporter": "python",
   "pygments_lexer": "ipython3",
   "version": "3.11.7"
  }
 },
 "nbformat": 4,
 "nbformat_minor": 5
}
