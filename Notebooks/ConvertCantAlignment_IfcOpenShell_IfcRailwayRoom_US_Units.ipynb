{
 "cells": [
  {
   "cell_type": "markdown",
   "id": "8e758af5-96bc-4ef0-82da-504894c6189c",
   "metadata": {},
   "source": [
    "Creates a graphical comparison of cant alignments from IFC-Rail-Unit-Test-Reference-Code and IfcOpenShell"
   ]
  },
  {
   "cell_type": "code",
   "execution_count": 1,
   "id": "07246861-6de3-4291-9645-7b33c51049b8",
   "metadata": {},
   "outputs": [
    {
     "ename": "FileNotFoundError",
     "evalue": "File does not exist: 'F:\\IFC-Rail-Unit-Test-Reference-Code\\alignment_testset\\IFC-WithFixedGeneratedGeometry\\GENERATED__CantAlignment_VienneseBend_100.0_300_1000_1_Meter.ifc'.",
     "output_type": "error",
     "traceback": [
      "\u001b[1;31m---------------------------------------------------------------------------\u001b[0m",
      "\u001b[1;31mFileNotFoundError\u001b[0m                         Traceback (most recent call last)",
      "Cell \u001b[1;32mIn[1], line 19\u001b[0m\n\u001b[0;32m     17\u001b[0m filename \u001b[38;5;241m=\u001b[39m \u001b[38;5;124m\"\u001b[39m\u001b[38;5;124mF:/IFC-Rail-Unit-Test-Reference-Code/alignment_testset/IFC-WithFixedGeneratedGeometry/GENERATED__CantAlignment_\u001b[39m\u001b[38;5;124m\"\u001b[39m \u001b[38;5;241m+\u001b[39m test_case \u001b[38;5;241m+\u001b[39m \u001b[38;5;124m\"\u001b[39m\u001b[38;5;124m.ifc\u001b[39m\u001b[38;5;124m\"\u001b[39m\n\u001b[0;32m     18\u001b[0m \u001b[38;5;66;03m#print(filename)\u001b[39;00m\n\u001b[1;32m---> 19\u001b[0m model \u001b[38;5;241m=\u001b[39m \u001b[43mifcopenshell\u001b[49m\u001b[38;5;241;43m.\u001b[39;49m\u001b[43mopen\u001b[49m\u001b[43m(\u001b[49m\u001b[43mfilename\u001b[49m\u001b[43m)\u001b[49m\n\u001b[0;32m     20\u001b[0m output_model \u001b[38;5;241m=\u001b[39m ifcpatch\u001b[38;5;241m.\u001b[39mexecute({\u001b[38;5;124m\"\u001b[39m\u001b[38;5;124minput\u001b[39m\u001b[38;5;124m\"\u001b[39m : filename, \u001b[38;5;124m\"\u001b[39m\u001b[38;5;124mfile\u001b[39m\u001b[38;5;124m\"\u001b[39m: model, \u001b[38;5;124m\"\u001b[39m\u001b[38;5;124mrecipe\u001b[39m\u001b[38;5;124m\"\u001b[39m: \u001b[38;5;124m\"\u001b[39m\u001b[38;5;124mConvertLengthUnit\u001b[39m\u001b[38;5;124m\"\u001b[39m, \u001b[38;5;124m\"\u001b[39m\u001b[38;5;124marguments\u001b[39m\u001b[38;5;124m\"\u001b[39m: [\u001b[38;5;124m\"\u001b[39m\u001b[38;5;124mFOOT\u001b[39m\u001b[38;5;124m\"\u001b[39m]})\n\u001b[0;32m     21\u001b[0m output_filename \u001b[38;5;241m=\u001b[39m filename\u001b[38;5;241m.\u001b[39mreplace(\u001b[38;5;124m\"\u001b[39m\u001b[38;5;124mMeter\u001b[39m\u001b[38;5;124m\"\u001b[39m,\u001b[38;5;124m\"\u001b[39m\u001b[38;5;124mFoot\u001b[39m\u001b[38;5;124m\"\u001b[39m)\n",
      "File \u001b[1;32mD:\\IfcOpenShell\\_deps-vs2022-x64-installed\\Python311\\Lib\\site-packages\\ifcopenshell\\__init__.py:162\u001b[0m, in \u001b[0;36mopen\u001b[1;34m(path, format, should_stream)\u001b[0m\n\u001b[0;32m    160\u001b[0m path \u001b[38;5;241m=\u001b[39m Path(path)\n\u001b[0;32m    161\u001b[0m \u001b[38;5;28;01mif\u001b[39;00m \u001b[38;5;129;01mnot\u001b[39;00m path\u001b[38;5;241m.\u001b[39mis_file():\n\u001b[1;32m--> 162\u001b[0m     \u001b[38;5;28;01mraise\u001b[39;00m \u001b[38;5;167;01mFileNotFoundError\u001b[39;00m(\u001b[38;5;124mf\u001b[39m\u001b[38;5;124m\"\u001b[39m\u001b[38;5;124mFile does not exist: \u001b[39m\u001b[38;5;124m'\u001b[39m\u001b[38;5;132;01m{\u001b[39;00mpath\u001b[38;5;132;01m}\u001b[39;00m\u001b[38;5;124m'\u001b[39m\u001b[38;5;124m.\u001b[39m\u001b[38;5;124m\"\u001b[39m)\n\u001b[0;32m    163\u001b[0m \u001b[38;5;28;01mif\u001b[39;00m \u001b[38;5;28mformat\u001b[39m \u001b[38;5;129;01mis\u001b[39;00m \u001b[38;5;28;01mNone\u001b[39;00m:\n\u001b[0;32m    164\u001b[0m     \u001b[38;5;28mformat\u001b[39m \u001b[38;5;241m=\u001b[39m guess_format(path)\n",
      "\u001b[1;31mFileNotFoundError\u001b[0m: File does not exist: 'F:\\IFC-Rail-Unit-Test-Reference-Code\\alignment_testset\\IFC-WithFixedGeneratedGeometry\\GENERATED__CantAlignment_VienneseBend_100.0_300_1000_1_Meter.ifc'."
     ]
    }
   ],
   "source": [
    "import ifcopenshell\n",
    "import ifcpatch\n",
    "\n",
    "curve_types = [\"BlossCurve\",\"ConstantCant\",\"CosineCurve\",\"HelmertCurve\",\"LinearTransition\",\"SineCurve\",\"VienneseBend\"]\n",
    "for curve_type in curve_types:\n",
    "    test_cases = []\n",
    "    test_cases.append(curve_type + \"_100.0_300_1000_1_Meter\")\n",
    "    test_cases.append(curve_type + \"_100.0_-300_-1000_1_Meter\")\n",
    "    test_cases.append(curve_type + \"_100.0_300_inf_1_Meter\")\n",
    "    test_cases.append(curve_type + \"_100.0_-300_-inf_1_Meter\")\n",
    "    test_cases.append(curve_type + \"_100.0_1000_300_1_Meter\")\n",
    "    test_cases.append(curve_type + \"_100.0_-1000_-300_1_Meter\")\n",
    "    test_cases.append(curve_type + \"_100.0_inf_300_1_Meter\")\n",
    "    test_cases.append(curve_type + \"_100.0_-inf_-300_1_Meter\")\n",
    "    \n",
    "    for test_case in test_cases:\n",
    "        filename = \"F:/IFC-Rail-Unit-Test-Reference-Code/alignment_testset/IFC-WithFixedGeneratedGeometry/GENERATED__CantAlignment_\" + test_case + \".ifc\"\n",
    "        #print(filename)\n",
    "        model = ifcopenshell.open(filename)\n",
    "        output_model = ifcpatch.execute({\"input\" : filename, \"file\": model, \"recipe\": \"ConvertLengthUnit\", \"arguments\": [\"FOOT\"]})\n",
    "        output_filename = filename.replace(\"Meter\",\"Foot\")\n",
    "        #print(output_filename)\n",
    "        ifcpatch.write(output_model,output_filename)\n",
    "\n",
    "\n",
    "print(\"Done\")"
   ]
  },
  {
   "cell_type": "code",
   "execution_count": null,
   "id": "205cda4e-6694-46db-a565-291cebab9f02",
   "metadata": {},
   "outputs": [],
   "source": []
  },
  {
   "cell_type": "code",
   "execution_count": null,
   "id": "1df07eca-3997-4588-9960-c9e0d70589e9",
   "metadata": {},
   "outputs": [],
   "source": []
  }
 ],
 "metadata": {
  "kernelspec": {
   "display_name": "Python 3 (ipykernel)",
   "language": "python",
   "name": "python3"
  },
  "language_info": {
   "codemirror_mode": {
    "name": "ipython",
    "version": 3
   },
   "file_extension": ".py",
   "mimetype": "text/x-python",
   "name": "python",
   "nbconvert_exporter": "python",
   "pygments_lexer": "ipython3",
   "version": "3.11.7"
  }
 },
 "nbformat": 4,
 "nbformat_minor": 5
}
