{
 "cells": [
  {
   "cell_type": "code",
   "execution_count": 5,
   "id": "8870a1bd-9991-4656-93c5-0b452bf47ecf",
   "metadata": {},
   "outputs": [
    {
     "name": "stdout",
     "output_type": "stream",
     "text": [
      "Done\n"
     ]
    }
   ],
   "source": [
    "import ifcopenshell\n",
    "import ifcopenshell.api.alignment\n",
    "\n",
    "file = ifcopenshell.open(\"D:\\\\LX2IFC\\\\FTIA_LandXML\\\\3C03_Geom_Kupittaa-Turku_patch_2.ifc\")\n",
    "alignments = file.by_type(\"IfcAlignment\")\n",
    "for alignment in alignments:\n",
    "    basis_curve = ifcopenshell.api.alignment.get_basis_curve(alignment)\n",
    "\n",
    "    object_placement = file.createIfcLinearPlacement(\n",
    "        RelativePlacement=file.createIfcAxis2PlacementLinear(\n",
    "            Location=file.createIfcPointByDistanceExpression(\n",
    "                DistanceAlong=file.createIfcLengthMeasure(0.0),\n",
    "                OffsetLateral=None,\n",
    "                OffsetVertical=None,\n",
    "                OffsetLongitudinal=None,\n",
    "                BasisCurve=basis_curve,\n",
    "            )\n",
    "        ),\n",
    "    )    \n",
    "    nests = alignment.IsNestedBy\n",
    "    if nests[1].RelatedObjects[0].ObjectPlacement == None:\n",
    "        nests[1].RelatedObjects[0].ObjectPlacement = object_placement\n",
    "\n",
    "file.write(\"D:\\\\LX2IFC\\\\FTIA_LandXML\\\\3C03_Geom_Kupittaa-Turku_patch_2.ifc\")\n",
    "print(\"Done\")\n"
   ]
  },
  {
   "cell_type": "code",
   "execution_count": null,
   "id": "24458104-77ee-45b7-99d9-022f5f2c9a14",
   "metadata": {},
   "outputs": [],
   "source": []
  }
 ],
 "metadata": {
  "kernelspec": {
   "display_name": "Python 3 (ipykernel)",
   "language": "python",
   "name": "python3"
  },
  "language_info": {
   "codemirror_mode": {
    "name": "ipython",
    "version": 3
   },
   "file_extension": ".py",
   "mimetype": "text/x-python",
   "name": "python",
   "nbconvert_exporter": "python",
   "pygments_lexer": "ipython3",
   "version": "3.11.7"
  }
 },
 "nbformat": 4,
 "nbformat_minor": 5
}
