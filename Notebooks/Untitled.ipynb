{
 "cells": [
  {
   "cell_type": "code",
   "execution_count": 2,
   "id": "a747c1a0-f980-458c-9b6e-d09fe4f11d0b",
   "metadata": {},
   "outputs": [
    {
     "name": "stdout",
     "output_type": "stream",
     "text": [
      "#6=IfcCartesianPoint((0.,0.))\n"
     ]
    }
   ],
   "source": [
    "import ifcopenshell\n",
    "from ifcopenshell.api import run\n",
    "\n",
    "# create a blank model\n",
    "model = ifcopenshell.file()\n",
    "\n",
    "# All projects must have one IFC Project element\n",
    "project = run(\"root.create_entity\", model, ifc_class=\"IfcProject\", name=\"My Project\")\n",
    "\n",
    "# Geometry is optional in IFC, but because we want to use geometry in this example, let's define units\n",
    "# Assigning without arguments defaults to metric units\n",
    "run(\"unit.assign_unit\", model)\n",
    "\n",
    "p = model.createIfcCartesianPoint([0.0,0.0])\n",
    "print(p)"
   ]
  },
  {
   "cell_type": "code",
   "execution_count": null,
   "id": "ec8900ab-1020-47d4-b734-63e1d197bf88",
   "metadata": {},
   "outputs": [],
   "source": []
  }
 ],
 "metadata": {
  "kernelspec": {
   "display_name": "Python 3 (ipykernel)",
   "language": "python",
   "name": "python3"
  },
  "language_info": {
   "codemirror_mode": {
    "name": "ipython",
    "version": 3
   },
   "file_extension": ".py",
   "mimetype": "text/x-python",
   "name": "python",
   "nbconvert_exporter": "python",
   "pygments_lexer": "ipython3",
   "version": "3.12.1"
  }
 },
 "nbformat": 4,
 "nbformat_minor": 5
}
