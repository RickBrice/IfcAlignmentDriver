{
 "cells": [
  {
   "cell_type": "code",
   "execution_count": 1,
   "id": "638d712d-815b-4adc-9fef-0742fe1f0bbd",
   "metadata": {},
   "outputs": [
    {
     "name": "stdout",
     "output_type": "stream",
     "text": [
      "0.8.0\n",
      "F:\\Python\\Python312\\Lib\\site-packages\\ifcopenshell\\__init__.py\n"
     ]
    }
   ],
   "source": [
    "import ifcopenshell\n",
    "print(ifcopenshell.version)\n",
    "print(ifcopenshell.__file__)"
   ]
  },
  {
   "cell_type": "code",
   "execution_count": 2,
   "id": "ec8900ab-1020-47d4-b734-63e1d197bf88",
   "metadata": {},
   "outputs": [
    {
     "name": "stdout",
     "output_type": "stream",
     "text": [
      "#886=IfcAxis2PlacementLinear(#883,#884,#885)\n"
     ]
    }
   ],
   "source": [
    "import ifcopenshell.util.placement\n",
    "model = ifcopenshell.open(\"PGSuperExport.ifc\")\n",
    "placement = model.by_id(886)\n",
    "print(placement)"
   ]
  },
  {
   "cell_type": "code",
   "execution_count": 3,
   "id": "35f2282d-ceb5-4b43-afc8-6dcd1a24cabd",
   "metadata": {},
   "outputs": [
    {
     "name": "stdout",
     "output_type": "stream",
     "text": [
      "[[ 1.     -0.     -0.      0.3048]\n",
      " [ 0.      1.     -0.      0.    ]\n",
      " [ 0.      0.      1.      0.    ]\n",
      " [ 0.      0.      0.      1.    ]]\n"
     ]
    }
   ],
   "source": [
    "#Crashes here, nothing gets printed - kernal stops/restarts\n",
    "print(ifcopenshell.util.placement.get_axis2placement(placement))"
   ]
  },
  {
   "cell_type": "code",
   "execution_count": null,
   "id": "42647f9f-ed9d-4e23-a9b7-bd1c19eac392",
   "metadata": {},
   "outputs": [],
   "source": []
  }
 ],
 "metadata": {
  "kernelspec": {
   "display_name": "Python 3 (ipykernel)",
   "language": "python",
   "name": "python3"
  },
  "language_info": {
   "codemirror_mode": {
    "name": "ipython",
    "version": 3
   },
   "file_extension": ".py",
   "mimetype": "text/x-python",
   "name": "python",
   "nbconvert_exporter": "python",
   "pygments_lexer": "ipython3",
   "version": "3.12.3"
  }
 },
 "nbformat": 4,
 "nbformat_minor": 5
}
