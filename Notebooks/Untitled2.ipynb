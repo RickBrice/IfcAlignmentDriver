{
 "cells": [
  {
   "cell_type": "code",
   "execution_count": 10,
   "id": "96e66f3a-fc29-4e0a-b9e6-2230d283fbb4",
   "metadata": {},
   "outputs": [
    {
     "data": {
      "text/plain": [
       "((0.8392527899703554, 0.5437414408769802, 0.0, 152.4),\n",
       " (-0.5437414408769802, 0.8392527899703554, 0.0, 762.0),\n",
       " (0.0, 0.0, 1.0, 0.0),\n",
       " (0.0, 0.0, 0.0, 1.0))"
      ]
     },
     "execution_count": 10,
     "metadata": {},
     "output_type": "execute_result"
    }
   ],
   "source": [
    "import ifcopenshell, ifcopenshell.geom\n",
    "f = ifcopenshell.open(\"F:/IfcOpenShell/_build-vs2022-x64/examples/FHWA_Bridge_Geometry_Alignment_Example.ifc\")\n",
    "inst = f.by_type('IfcCompositeCurve')[0]\n",
    "pwf = ifcopenshell.ifcopenshell_wrapper.map_shape(ifcopenshell.geom.settings(),inst.wrapped_data)\n",
    "pwf.evaluate(0.0)"
   ]
  },
  {
   "cell_type": "code",
   "execution_count": 11,
   "id": "1728adf6-046d-4aa1-970b-c3543f151410",
   "metadata": {},
   "outputs": [
    {
     "data": {
      "text/plain": [
       "((0.32621992232279406, 0.9452939025931091, 0.0, 2584.7044889071485),\n",
       " (-0.9452939025931091, 0.32621992232279406, 0.0, 612.6481690287989),\n",
       " (0.0, 0.0, 1.0, 0.0),\n",
       " (0.0, 0.0, 0.0, 1.0))"
      ]
     },
     "execution_count": 11,
     "metadata": {},
     "output_type": "execute_result"
    }
   ],
   "source": [
    "pwf.evaluate(pwf.length())"
   ]
  },
  {
   "cell_type": "code",
   "execution_count": 12,
   "id": "a41b839b-f759-4b03-ac4d-f6186db22088",
   "metadata": {},
   "outputs": [
    {
     "data": {
      "text/plain": [
       "3760.338995740801"
      ]
     },
     "execution_count": 12,
     "metadata": {},
     "output_type": "execute_result"
    }
   ],
   "source": [
    "pwf.length()"
   ]
  },
  {
   "cell_type": "code",
   "execution_count": null,
   "id": "47d231f8-f621-46b6-ad3a-de8330612e02",
   "metadata": {},
   "outputs": [],
   "source": []
  }
 ],
 "metadata": {
  "kernelspec": {
   "display_name": "Python 3 (ipykernel)",
   "language": "python",
   "name": "python3"
  },
  "language_info": {
   "codemirror_mode": {
    "name": "ipython",
    "version": 3
   },
   "file_extension": ".py",
   "mimetype": "text/x-python",
   "name": "python",
   "nbconvert_exporter": "python",
   "pygments_lexer": "ipython3",
   "version": "3.12.3"
  }
 },
 "nbformat": 4,
 "nbformat_minor": 5
}
