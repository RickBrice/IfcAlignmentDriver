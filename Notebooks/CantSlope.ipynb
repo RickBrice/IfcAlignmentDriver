{
 "cells": [
  {
   "cell_type": "code",
   "execution_count": 1,
   "id": "8ef1f2bc-0124-4795-8c38-c7b60cffce26",
   "metadata": {},
   "outputs": [
    {
     "ename": "OSError",
     "evalue": "Unable to open file for reading",
     "output_type": "error",
     "traceback": [
      "\u001b[1;31m---------------------------------------------------------------------------\u001b[0m",
      "\u001b[1;31mOSError\u001b[0m                                   Traceback (most recent call last)",
      "Cell \u001b[1;32mIn[1], line 18\u001b[0m\n\u001b[0;32m     15\u001b[0m test_cases\u001b[38;5;241m.\u001b[39mappend(curve_type \u001b[38;5;241m+\u001b[39m \u001b[38;5;124m\"\u001b[39m\u001b[38;5;124m_100.0_-inf_-300_1_Meter\u001b[39m\u001b[38;5;124m\"\u001b[39m)\n\u001b[0;32m     17\u001b[0m \u001b[38;5;28;01mfor\u001b[39;00m test_case \u001b[38;5;129;01min\u001b[39;00m test_cases:\n\u001b[1;32m---> 18\u001b[0m     f \u001b[38;5;241m=\u001b[39m \u001b[43mifcopenshell\u001b[49m\u001b[38;5;241;43m.\u001b[39;49m\u001b[43mopen\u001b[49m\u001b[43m(\u001b[49m\u001b[38;5;124;43m\"\u001b[39;49m\u001b[38;5;124;43mF:/IFC-Rail-Unit-Test-Reference-Code/alignment_testset/IFC-WithGeneratedGeometry/GENERATED__CantAlignment_\u001b[39;49m\u001b[38;5;124;43m\"\u001b[39;49m\u001b[43m \u001b[49m\u001b[38;5;241;43m+\u001b[39;49m\u001b[43m \u001b[49m\u001b[43mtest_case\u001b[49m\u001b[43m \u001b[49m\u001b[38;5;241;43m+\u001b[39;49m\u001b[43m \u001b[49m\u001b[38;5;124;43m\"\u001b[39;49m\u001b[38;5;124;43m.ifc\u001b[39;49m\u001b[38;5;124;43m\"\u001b[39;49m\u001b[43m)\u001b[49m\n\u001b[0;32m     20\u001b[0m     inst \u001b[38;5;241m=\u001b[39m f\u001b[38;5;241m.\u001b[39mby_type(\u001b[38;5;124m'\u001b[39m\u001b[38;5;124mIfcSegmentedReferenceCurve\u001b[39m\u001b[38;5;124m'\u001b[39m)[\u001b[38;5;241m0\u001b[39m]\n\u001b[0;32m     21\u001b[0m     cant \u001b[38;5;241m=\u001b[39m f\u001b[38;5;241m.\u001b[39mby_type(\u001b[38;5;124m'\u001b[39m\u001b[38;5;124mIfcAlignmentCant\u001b[39m\u001b[38;5;124m'\u001b[39m)[\u001b[38;5;241m0\u001b[39m]\n",
      "File \u001b[1;32mF:\\IfcOpenShell\\_deps-vs2022-x64-installed\\Python311\\Lib\\site-packages\\ifcopenshell\\__init__.py:161\u001b[0m, in \u001b[0;36mopen\u001b[1;34m(path, format, should_stream)\u001b[0m\n\u001b[0;32m    159\u001b[0m     \u001b[38;5;28;01mreturn\u001b[39;00m stream(path)\n\u001b[0;32m    160\u001b[0m f \u001b[38;5;241m=\u001b[39m ifcopenshell_wrapper\u001b[38;5;241m.\u001b[39mopen(\u001b[38;5;28mstr\u001b[39m(path\u001b[38;5;241m.\u001b[39mabsolute()))\n\u001b[1;32m--> 161\u001b[0m \u001b[38;5;28;01mreturn\u001b[39;00m \u001b[43mfile\u001b[49m\u001b[43m(\u001b[49m\u001b[43mf\u001b[49m\u001b[43m)\u001b[49m\n",
      "File \u001b[1;32mF:\\IfcOpenShell\\_deps-vs2022-x64-installed\\Python311\\Lib\\site-packages\\ifcopenshell\\file.py:264\u001b[0m, in \u001b[0;36mfile.__init__\u001b[1;34m(self, f, schema, schema_version)\u001b[0m\n\u001b[0;32m    254\u001b[0m         \u001b[38;5;28;01mfrom\u001b[39;00m \u001b[38;5;21;01m.\u001b[39;00m \u001b[38;5;28;01mimport\u001b[39;00m Error, SchemaError\n\u001b[0;32m    256\u001b[0m         exc, msg \u001b[38;5;241m=\u001b[39m {\n\u001b[0;32m    257\u001b[0m             READ_ERROR: (\u001b[38;5;167;01mIOError\u001b[39;00m, \u001b[38;5;124m\"\u001b[39m\u001b[38;5;124mUnable to open file for reading\u001b[39m\u001b[38;5;124m\"\u001b[39m),\n\u001b[0;32m    258\u001b[0m             NO_HEADER: (Error, \u001b[38;5;124m\"\u001b[39m\u001b[38;5;124mUnable to parse IFC SPF header\u001b[39m\u001b[38;5;124m\"\u001b[39m),\n\u001b[1;32m   (...)\u001b[0m\n\u001b[0;32m    262\u001b[0m             ),\n\u001b[0;32m    263\u001b[0m         }[f\u001b[38;5;241m.\u001b[39mgood()\u001b[38;5;241m.\u001b[39mvalue()]\n\u001b[1;32m--> 264\u001b[0m         \u001b[38;5;28;01mraise\u001b[39;00m exc(msg)\n\u001b[0;32m    265\u001b[0m     \u001b[38;5;28mself\u001b[39m\u001b[38;5;241m.\u001b[39mwrapped_data \u001b[38;5;241m=\u001b[39m f\n\u001b[0;32m    266\u001b[0m \u001b[38;5;28;01melse\u001b[39;00m:\n",
      "\u001b[1;31mOSError\u001b[0m: Unable to open file for reading"
     ]
    }
   ],
   "source": [
    "import ifcopenshell, ifcopenshell.geom\n",
    "import numpy as np\n",
    "import matplotlib.pyplot as plt\n",
    "\n",
    "curve_types = [\"BlossCurve\",\"ConstantCant\",\"CosineCurve\",\"HelmertCurve\",\"LinearTransition\",\"SineCurve\",\"VienneseBend\"]\n",
    "for curve_type in curve_types:\n",
    "    test_cases = []\n",
    "    test_cases.append(curve_type + \"_100.0_300_1000_1_Meter\")\n",
    "    test_cases.append(curve_type + \"_100.0_-300_-1000_1_Meter\")\n",
    "    test_cases.append(curve_type + \"_100.0_300_inf_1_Meter\")\n",
    "    test_cases.append(curve_type + \"_100.0_-300_-inf_1_Meter\")\n",
    "    test_cases.append(curve_type + \"_100.0_1000_300_1_Meter\")\n",
    "    test_cases.append(curve_type + \"_100.0_-1000_-300_1_Meter\")\n",
    "    test_cases.append(curve_type + \"_100.0_inf_300_1_Meter\")\n",
    "    test_cases.append(curve_type + \"_100.0_-inf_-300_1_Meter\")\n",
    "    \n",
    "    for test_case in test_cases:\n",
    "        f = ifcopenshell.open(\"F:/IFC-Rail-Unit-Test-Reference-Code/alignment_testset/IFC-WithGeneratedGeometry/GENERATED__CantAlignment_\" + test_case + \".ifc\")\n",
    "\n",
    "        inst = f.by_type('IfcSegmentedReferenceCurve')[0]\n",
    "        cant = f.by_type('IfcAlignmentCant')[0]\n",
    "        #print(cant)\n",
    "        rail_head = cant.RailHeadDistance\n",
    "        #print(inst)\n",
    "        pwf = ifcopenshell.ifcopenshell_wrapper.map_shape(ifcopenshell.geom.settings(),inst.wrapped_data)\n",
    "        locations = pwf.evaluation_points()\n",
    "        left = []\n",
    "        center = []\n",
    "        right = []\n",
    "        for u in locations:\n",
    "            m = pwf.evaluate(u)\n",
    "            z = np.array(m)[:,3][2] # get the curve elevation\n",
    "            axis = np.array(m)[:,2] # get the Axis vector\n",
    "            dy = axis[1]\n",
    "            dz = axis[2]\n",
    "            left.append(-0.5*rail_head*dy/dz + z)\n",
    "            center.append(z)\n",
    "            right.append(0.5*rail_head*dy/dz + z)\n",
    "        \n",
    "        fig1 = plt.figure().add_subplot()\n",
    "        fig1.plot(locations,left,label=\"Left\")\n",
    "        fig1.plot(locations,center,label=\"Center\")\n",
    "        fig1.plot(locations,right,label=\"Right\")\n",
    "                    \n",
    "        fig1.set_title(test_case)\n",
    "        fig1.legend(loc=\"upper left\")\n",
    "        fig1.set_xlabel(\"distance along\")\n",
    "        fig1.set_ylabel(\"elevation\")\n",
    "        fig1.grid(True)\n",
    "        plt.show()\n"
   ]
  },
  {
   "cell_type": "code",
   "execution_count": null,
   "id": "96c5b17c-2e2b-490e-be71-1d9356d0cf07",
   "metadata": {},
   "outputs": [],
   "source": []
  }
 ],
 "metadata": {
  "kernelspec": {
   "display_name": "Python 3 (ipykernel)",
   "language": "python",
   "name": "python3"
  },
  "language_info": {
   "codemirror_mode": {
    "name": "ipython",
    "version": 3
   },
   "file_extension": ".py",
   "mimetype": "text/x-python",
   "name": "python",
   "nbconvert_exporter": "python",
   "pygments_lexer": "ipython3",
   "version": "3.11.7"
  }
 },
 "nbformat": 4,
 "nbformat_minor": 5
}
