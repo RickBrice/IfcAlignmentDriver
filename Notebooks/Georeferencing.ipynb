{
 "cells": [
  {
   "cell_type": "code",
   "execution_count": 3,
   "id": "069ca29c-11e8-4dd2-8a7d-deea608f226c",
   "metadata": {},
   "outputs": [
    {
     "name": "stdout",
     "output_type": "stream",
     "text": [
      "Done!\n"
     ]
    }
   ],
   "source": [
    "import ifcopenshell\n",
    "import ifcopenshell.api.georeference\n",
    "model = ifcopenshell.open(\"F:\\\\LX2IFC\\\\FTIA_LandXML\\\\Finnish Example Data\\\\3C03_Geom_TurkuTavara.ifc\")\n",
    "ifcopenshell.api.georeference.add_georeferencing(model)\n",
    "ifcopenshell.api.georeference.edit_georeferencing(model,projected_crs=\n",
    "                                                  {\"Name\":\"EPSG:3877\",\n",
    "                                                   \"Description\":\"ETRS-GK23\",\n",
    "                                                   \"GeodeticDatum\":\"ETRS\",\n",
    "                                                   \"VerticalDatum\":\"N2000\",\n",
    "                                                   \"MapProjection\":\"GK23\"})\n",
    "model.write(\"F:\\\\LX2IFC\\\\FTIA_LandXML\\\\Finnish Example Data\\\\3C03_Geom_TurkuTavara.ifc\")\n",
    "print(\"Done!\")"
   ]
  },
  {
   "cell_type": "code",
   "execution_count": null,
   "id": "800787de-58e0-4719-9dc7-e35e2315d471",
   "metadata": {},
   "outputs": [],
   "source": []
  }
 ],
 "metadata": {
  "kernelspec": {
   "display_name": "Python 3 (ipykernel)",
   "language": "python",
   "name": "python3"
  },
  "language_info": {
   "codemirror_mode": {
    "name": "ipython",
    "version": 3
   },
   "file_extension": ".py",
   "mimetype": "text/x-python",
   "name": "python",
   "nbconvert_exporter": "python",
   "pygments_lexer": "ipython3",
   "version": "3.11.7"
  }
 },
 "nbformat": 4,
 "nbformat_minor": 5
}
