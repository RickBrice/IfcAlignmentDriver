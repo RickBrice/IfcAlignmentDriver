{
 "cells": [
  {
   "cell_type": "code",
   "execution_count": 4,
   "id": "07246861-6de3-4291-9645-7b33c51049b8",
   "metadata": {},
   "outputs": [
    {
     "name": "stdout",
     "output_type": "stream",
     "text": [
      "[[      -0.68197035        0.73137982        0.         23474480.74704239]\n",
      " [      -0.73137982       -0.68197035        0.          6701742.75719634]\n",
      " [       0.                0.                1.                0.        ]\n",
      " [       0.                0.                0.                1.        ]]\n",
      "[[      -0.68159861        0.73172627        0.         23474480.755794  ]\n",
      " [      -0.73172627       -0.68159861        0.          6701742.749377  ]\n",
      " [       0.                0.                1.                0.        ]\n",
      " [       0.                0.                0.                1.        ]]\n"
     ]
    },
    {
     "data": {
      "text/plain": [
       "'DISCONTINUOUS'"
      ]
     },
     "execution_count": 4,
     "metadata": {},
     "output_type": "execute_result"
    }
   ],
   "source": [
    "import ifcopenshell\n",
    "import ifcopenshell.geom as geom\n",
    "import ifcopenshell.ifcopenshell_wrapper as wrapper\n",
    "import numpy as np\n",
    "import matplotlib.pyplot as plt\n",
    "import math\n",
    "import ifcopenshell.api.alignment\n",
    "\n",
    "model = ifcopenshell.open(\"F:\\\\LX2IFC\\\\FTIA_LandXML\\\\BPaimio-Kupittaa_GK23_N2000_2020_patch_4.ifc\")\n",
    "\n",
    "settings = geom.settings()\n",
    "\n",
    "#ifcopenshell.api.alignment.util.print_alignment_deep(model.by_id(1183))\n",
    "#gc = model.by_id(4039)\n",
    "#ifcopenshell.api.alignment.util.print_composite_curve_deep(gc)\n",
    "\n",
    "np.set_printoptions(suppress=True) # suppresses scientific notation\n",
    "\n",
    "segment1 = model.by_id(1350) # Bloss 2\n",
    "shape1 = ifcopenshell.ifcopenshell_wrapper.map_shape(settings,segment1.wrapped_data)\n",
    "evaluator1 = ifcopenshell.ifcopenshell_wrapper.function_item_evaluator(settings,shape1)\n",
    "print(np.array(evaluator1.evaluate(shape1.end())))\n",
    "\n",
    "segment2 = model.by_id(1357) # Bloss 2\n",
    "shape2 = ifcopenshell.ifcopenshell_wrapper.map_shape(settings,segment2.wrapped_data)\n",
    "evaluator2 = ifcopenshell.ifcopenshell_wrapper.function_item_evaluator(settings,shape2)\n",
    "print(np.array(evaluator2.evaluate(shape2.start())))\n",
    "\n",
    "ifcopenshell.api.alignment.get_curve_segment_transition_code(segment1,segment2)\n"
   ]
  },
  {
   "cell_type": "code",
   "execution_count": null,
   "id": "99ec3284-6c59-4a12-b025-ac4b67c8f7c2",
   "metadata": {},
   "outputs": [],
   "source": []
  },
  {
   "cell_type": "code",
   "execution_count": null,
   "id": "c2dde600-8ba2-4710-80f2-7040b4b04098",
   "metadata": {},
   "outputs": [],
   "source": []
  }
 ],
 "metadata": {
  "kernelspec": {
   "display_name": "Python 3 (ipykernel)",
   "language": "python",
   "name": "python3"
  },
  "language_info": {
   "codemirror_mode": {
    "name": "ipython",
    "version": 3
   },
   "file_extension": ".py",
   "mimetype": "text/x-python",
   "name": "python",
   "nbconvert_exporter": "python",
   "pygments_lexer": "ipython3",
   "version": "3.11.7"
  }
 },
 "nbformat": 4,
 "nbformat_minor": 5
}
