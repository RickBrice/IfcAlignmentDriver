{
 "cells": [
  {
   "cell_type": "code",
   "execution_count": 6,
   "id": "07246861-6de3-4291-9645-7b33c51049b8",
   "metadata": {},
   "outputs": [
    {
     "name": "stdout",
     "output_type": "stream",
     "text": [
      " #1095=IfcAlignmentVertical('3KR7r3S1bB9Ozx8JrpvFoa',$,$,$,$,$,$)\n",
      "   #1097=IfcAlignmentSegment('3a3JkHBGr8nuiJ5Duj9pv0',$,'004002_profAlign/189',$,$,$,$,#1096)\n",
      "     #1096=IfcAlignmentVerticalSegment($,$,0.,0.126971000001504,5.799275,0.00194783395577627,0.00194783395577627,$,.CONSTANTGRADIENT.)\n",
      "   #1100=IfcAlignmentSegment('1EzfQ$YSL95ANnG8SxtzwW',$,'004002_profAlign/195',$,$,$,$,#1099)\n",
      "     #1099=IfcAlignmentVerticalSegment($,$,0.126971000001504,86.68468,5.7995223184252,0.00194783395577627,0.00587575522274666,22000.,.CIRCULARARC.)\n",
      "   #1102=IfcAlignmentSegment('2Yeac_iID5L9Au$aGLDv3m',$,'004002_profAlign/195',$,$,$,$,#1101)\n",
      "     #1101=IfcAlignmentVerticalSegment($,$,86.811651,0.132582000000184,6.139394,0.00587575522271426,0.00587575522271426,$,.CONSTANTGRADIENT.)\n",
      "   #4458=IfcAlignmentSegment('35nr1uP2D4VBqYwnYH_yRC',$,$,$,$,$,$,#4457)\n",
      "     #4457=IfcAlignmentVerticalSegment($,$,86.9442330000002,0.,6.14017301937894,0.00587575522271426,0.00587575522271426,$,.CONSTANTGRADIENT.)\n",
      "#4105=IfcGradientCurve((#4163,#4171,#4179,#4467),.F.,#4101,$)\n",
      "#4105=IfcGradientCurve((#4163,#4171,#4179,#4467),.F.,#4101,$)\n",
      "   #4163=IfcCurveSegment(.CONTSAMEGRADIENTSAMECURVATURE.,#4162,IfcLengthMeasure(0.),IfcLengthMeasure(0.126971240868889),#4159)\n",
      "     #4159=IfcLine(#4156,#4158)\n",
      "     #4162=IfcAxis2Placement2D(#4160,#4161)\n",
      "     #4160=IfcCartesianPoint((0.,5.799275))\n",
      "     #4161=IfcDirection((0.999998102976838,0.00194783026069014))\n",
      "   #4171=IfcCurveSegment(.DISCONTINUOUS.,#4170,IfcLengthMeasure(104042.550336505),IfcLengthMeasure(86.6853989472194),#4167)\n",
      "     #4167=IfcCircle(#4166,22069.3926819961)\n",
      "     #4170=IfcAxis2Placement2D(#4168,#4169)\n",
      "     #4168=IfcCartesianPoint((0.126971000001504,5.7995223184252))\n",
      "     #4169=IfcDirection((0.999998102976838,0.00194783026069014))\n",
      "   #4179=IfcCurveSegment(.CONTSAMEGRADIENTSAMECURVATURE.,#4178,IfcLengthMeasure(0.),IfcLengthMeasure(0.132584288644023),#4175)\n",
      "     #4175=IfcLine(#4172,#4174)\n",
      "     #4178=IfcAxis2Placement2D(#4176,#4177)\n",
      "     #4176=IfcCartesianPoint((86.811651,6.139394))\n",
      "     #4177=IfcDirection((0.999982738197246,0.00587565379658658))\n",
      "   #4467=IfcCurveSegment(.DISCONTINUOUS.,#4466,IfcLengthMeasure(0.),IfcLengthMeasure(0.),#4463)\n",
      "     #4463=IfcLine(#4460,#4462)\n",
      "     #4466=IfcAxis2Placement2D(#4464,#4465)\n",
      "     #4464=IfcCartesianPoint((86.9442330000002,6.14017301937894))\n",
      "     #4465=IfcDirection((0.999982738197246,0.00587565379658658))\n",
      "[[      -0.68197035        0.73137982        0.         23474480.74704239]\n",
      " [      -0.73137982       -0.68197035        0.          6701742.75719634]\n",
      " [       0.                0.                1.                0.        ]\n",
      " [       0.                0.                0.                1.        ]]\n",
      "[[      -0.68159861        0.73172627        0.         23474480.755794  ]\n",
      " [      -0.73172627       -0.68159861        0.          6701742.749377  ]\n",
      " [       0.                0.                1.                0.        ]\n",
      " [       0.                0.                0.                1.        ]]\n"
     ]
    },
    {
     "data": {
      "text/plain": [
       "'CONTSAMEGRADIENT'"
      ]
     },
     "execution_count": 6,
     "metadata": {},
     "output_type": "execute_result"
    }
   ],
   "source": [
    "import ifcopenshell\n",
    "import ifcopenshell.geom as geom\n",
    "import ifcopenshell.ifcopenshell_wrapper as wrapper\n",
    "import numpy as np\n",
    "import matplotlib.pyplot as plt\n",
    "import math\n",
    "import ifcopenshell.api.alignment\n",
    "\n",
    "model = ifcopenshell.open(\"F:\\\\LX2IFC\\\\FTIA_LandXML\\\\BPaimio-Kupittaa_GK23_N2000_2020_patch_4.ifc\")\n",
    "\n",
    "settings = geom.settings()\n",
    "\n",
    "#ifcopenshell.api.alignment.util.print_alignment_deep(model.by_id(1183))\n",
    "#gc = model.by_id(4039)\n",
    "#ifcopenshell.api.alignment.util.print_composite_curve_deep(gc)\n",
    "\n",
    "np.set_printoptions(suppress=True) # suppresses scientific notation\n",
    "\n",
    "vc = model.by_id(1095)\n",
    "ifcopenshell.api.alignment.print_alignment_deep(vc)\n",
    "print(ifcopenshell.api.alignment.get_curve(ifcopenshell.api.alignment.get_alignment(vc)))\n",
    "\n",
    "gc = model.by_id(4105)\n",
    "\n",
    "ifcopenshell.api.alignment.print_composite_curve_deep(gc)\n",
    "\n",
    "segment1 = model.by_id(1350) # Bloss 2\n",
    "shape1 = ifcopenshell.ifcopenshell_wrapper.map_shape(settings,segment1.wrapped_data)\n",
    "evaluator1 = ifcopenshell.ifcopenshell_wrapper.function_item_evaluator(settings,shape1)\n",
    "print(np.array(evaluator1.evaluate(shape1.end())))\n",
    "\n",
    "segment2 = model.by_id(1357) # Bloss 2\n",
    "shape2 = ifcopenshell.ifcopenshell_wrapper.map_shape(settings,segment2.wrapped_data)\n",
    "evaluator2 = ifcopenshell.ifcopenshell_wrapper.function_item_evaluator(settings,shape2)\n",
    "print(np.array(evaluator2.evaluate(shape2.start())))\n",
    "\n",
    "ifcopenshell.api.alignment.get_curve_segment_transition_code(segment1,segment2)\n"
   ]
  },
  {
   "cell_type": "code",
   "execution_count": null,
   "id": "c2dde600-8ba2-4710-80f2-7040b4b04098",
   "metadata": {},
   "outputs": [],
   "source": []
  }
 ],
 "metadata": {
  "kernelspec": {
   "display_name": "Python 3 (ipykernel)",
   "language": "python",
   "name": "python3"
  },
  "language_info": {
   "codemirror_mode": {
    "name": "ipython",
    "version": 3
   },
   "file_extension": ".py",
   "mimetype": "text/x-python",
   "name": "python",
   "nbconvert_exporter": "python",
   "pygments_lexer": "ipython3",
   "version": "3.11.7"
  }
 },
 "nbformat": 4,
 "nbformat_minor": 5
}
