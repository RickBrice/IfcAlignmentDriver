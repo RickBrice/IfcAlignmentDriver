{
 "cells": [
  {
   "cell_type": "markdown",
   "id": "8e758af5-96bc-4ef0-82da-504894c6189c",
   "metadata": {},
   "source": [
    "Creates a graphical comparison of vertical clothoid from IFC-Rail-Unit-Test-Reference-Code and IfcOpenShell"
   ]
  },
  {
   "cell_type": "code",
   "execution_count": 1,
   "id": "07246861-6de3-4291-9645-7b33c51049b8",
   "metadata": {},
   "outputs": [
    {
     "ename": "RuntimeError",
     "evalue": "Failed to process shape",
     "output_type": "error",
     "traceback": [
      "\u001b[1;31m---------------------------------------------------------------------------\u001b[0m",
      "\u001b[1;31mRuntimeError\u001b[0m                              Traceback (most recent call last)",
      "\u001b[1;32m~\\AppData\\Local\\Temp\\ipykernel_18988\\3080688603.py\u001b[0m in \u001b[0;36m?\u001b[1;34m()\u001b[0m\n\u001b[0;32m     34\u001b[0m     \u001b[0msettings\u001b[0m \u001b[1;33m=\u001b[0m \u001b[0mgeom\u001b[0m\u001b[1;33m.\u001b[0m\u001b[0msettings\u001b[0m\u001b[1;33m(\u001b[0m\u001b[1;33m)\u001b[0m\u001b[1;33m\u001b[0m\u001b[1;33m\u001b[0m\u001b[0m\n\u001b[0;32m     35\u001b[0m \u001b[1;33m\u001b[0m\u001b[0m\n\u001b[0;32m     36\u001b[0m \u001b[1;33m\u001b[0m\u001b[0m\n\u001b[0;32m     37\u001b[0m     \u001b[1;32mfor\u001b[0m \u001b[0mcurve\u001b[0m \u001b[1;32min\u001b[0m \u001b[0mcurves\u001b[0m\u001b[1;33m:\u001b[0m\u001b[1;33m\u001b[0m\u001b[1;33m\u001b[0m\u001b[0m\n\u001b[1;32m---> 38\u001b[1;33m         \u001b[0mshape\u001b[0m \u001b[1;33m=\u001b[0m \u001b[0mgeom\u001b[0m\u001b[1;33m.\u001b[0m\u001b[0mcreate_shape\u001b[0m\u001b[1;33m(\u001b[0m\u001b[0msettings\u001b[0m\u001b[1;33m,\u001b[0m\u001b[0mcurve\u001b[0m\u001b[1;33m)\u001b[0m\u001b[1;33m\u001b[0m\u001b[1;33m\u001b[0m\u001b[0m\n\u001b[0m\u001b[0;32m     39\u001b[0m         \u001b[0mverts\u001b[0m \u001b[1;33m=\u001b[0m \u001b[0mshape\u001b[0m\u001b[1;33m.\u001b[0m\u001b[0mverts\u001b[0m\u001b[1;33m\u001b[0m\u001b[1;33m\u001b[0m\u001b[0m\n\u001b[0;32m     40\u001b[0m         \u001b[0mverts\u001b[0m \u001b[1;33m=\u001b[0m \u001b[0mnp\u001b[0m\u001b[1;33m.\u001b[0m\u001b[0marray\u001b[0m\u001b[1;33m(\u001b[0m\u001b[0mverts\u001b[0m\u001b[1;33m)\u001b[0m\u001b[1;33m.\u001b[0m\u001b[0mreshape\u001b[0m\u001b[1;33m(\u001b[0m\u001b[1;33m(\u001b[0m\u001b[1;33m-\u001b[0m\u001b[1;36m1\u001b[0m\u001b[1;33m,\u001b[0m\u001b[1;36m3\u001b[0m\u001b[1;33m)\u001b[0m\u001b[1;33m)\u001b[0m\u001b[1;33m\u001b[0m\u001b[1;33m\u001b[0m\u001b[0m\n\u001b[0;32m     41\u001b[0m         \u001b[0mx\u001b[0m\u001b[1;33m,\u001b[0m\u001b[0my\u001b[0m\u001b[1;33m,\u001b[0m\u001b[0mz\u001b[0m \u001b[1;33m=\u001b[0m \u001b[0mverts\u001b[0m\u001b[1;33m.\u001b[0m\u001b[0mT\u001b[0m\u001b[1;33m\u001b[0m\u001b[1;33m\u001b[0m\u001b[0m\n",
      "\u001b[1;32mF:\\IfcOpenShell\\_deps-vs2022-x64-installed\\Python311\\Lib\\site-packages\\ifcopenshell\\geom\\main.py\u001b[0m in \u001b[0;36m?\u001b[1;34m(settings, inst, repr, geometry_library)\u001b[0m\n\u001b[0;32m    407\u001b[0m                     \u001b[0mprint\u001b[0m\u001b[1;33m(\u001b[0m\u001b[1;34m\"Shape creation failed\"\u001b[0m\u001b[1;33m)\u001b[0m\u001b[1;33m\u001b[0m\u001b[1;33m\u001b[0m\u001b[0m\n\u001b[0;32m    408\u001b[0m     \"\"\"\n\u001b[0;32m    409\u001b[0m     return wrap_shape_creation(\n\u001b[0;32m    410\u001b[0m         \u001b[0msettings\u001b[0m\u001b[1;33m,\u001b[0m\u001b[1;33m\u001b[0m\u001b[1;33m\u001b[0m\u001b[0m\n\u001b[1;32m--> 411\u001b[1;33m         ifcopenshell_wrapper.create_shape(\n\u001b[0m\u001b[0;32m    412\u001b[0m             \u001b[0msettings\u001b[0m\u001b[1;33m,\u001b[0m \u001b[0minst\u001b[0m\u001b[1;33m.\u001b[0m\u001b[0mwrapped_data\u001b[0m\u001b[1;33m,\u001b[0m \u001b[0mrepr\u001b[0m\u001b[1;33m.\u001b[0m\u001b[0mwrapped_data\u001b[0m \u001b[1;32mif\u001b[0m \u001b[0mrepr\u001b[0m \u001b[1;32mis\u001b[0m \u001b[1;32mnot\u001b[0m \u001b[1;32mNone\u001b[0m \u001b[1;32melse\u001b[0m \u001b[1;32mNone\u001b[0m\u001b[1;33m,\u001b[0m \u001b[0mgeometry_library\u001b[0m\u001b[1;33m\u001b[0m\u001b[1;33m\u001b[0m\u001b[0m\n\u001b[0;32m    413\u001b[0m         ),\n\u001b[0;32m    414\u001b[0m     )\n",
      "\u001b[1;32mF:\\IfcOpenShell\\_deps-vs2022-x64-installed\\Python311\\Lib\\site-packages\\ifcopenshell\\ifcopenshell_wrapper.py\u001b[0m in \u001b[0;36m?\u001b[1;34m(*args)\u001b[0m\n\u001b[0;32m   6047\u001b[0m     \u001b[0mcreate_shape\u001b[0m\u001b[1;33m(\u001b[0m\u001b[0mSettings\u001b[0m \u001b[0msettings\u001b[0m\u001b[1;33m,\u001b[0m \u001b[0mentity_instance\u001b[0m \u001b[0minstance\u001b[0m\u001b[1;33m,\u001b[0m \u001b[0mentity_instance\u001b[0m \u001b[0mrepresentation\u001b[0m\u001b[1;33m=\u001b[0m\u001b[1;32mNone\u001b[0m\u001b[1;33m,\u001b[0m \u001b[0mchar\u001b[0m \u001b[0mconst\u001b[0m \u001b[1;33m*\u001b[0m\u001b[0mconst\u001b[0m \u001b[0mgeometry_library\u001b[0m\u001b[1;33m)\u001b[0m \u001b[1;33m->\u001b[0m \u001b[0mboost\u001b[0m\u001b[1;33m:\u001b[0m\u001b[1;33m:\u001b[0m\u001b[0mvariant\u001b[0m\u001b[1;33m<\u001b[0m \u001b[0mIfcGeom\u001b[0m\u001b[1;33m:\u001b[0m\u001b[1;33m:\u001b[0m\u001b[0mElement\u001b[0m \u001b[1;33m*\u001b[0m\u001b[1;33m,\u001b[0m\u001b[0mIfcGeom\u001b[0m\u001b[1;33m:\u001b[0m\u001b[1;33m:\u001b[0m\u001b[0mRepresentation\u001b[0m\u001b[1;33m:\u001b[0m\u001b[1;33m:\u001b[0m\u001b[0mRepresentation\u001b[0m \u001b[1;33m*\u001b[0m\u001b[1;33m,\u001b[0m\u001b[0mIfcGeom\u001b[0m\u001b[1;33m:\u001b[0m\u001b[1;33m:\u001b[0m\u001b[0mTransformation\u001b[0m \u001b[1;33m*\u001b[0m \u001b[1;33m>\u001b[0m\u001b[1;33m\u001b[0m\u001b[1;33m\u001b[0m\u001b[0m\n\u001b[0;32m   6048\u001b[0m     \u001b[0mcreate_shape\u001b[0m\u001b[1;33m(\u001b[0m\u001b[0mSettings\u001b[0m \u001b[0msettings\u001b[0m\u001b[1;33m,\u001b[0m \u001b[0mentity_instance\u001b[0m \u001b[0minstance\u001b[0m\u001b[1;33m,\u001b[0m \u001b[0mentity_instance\u001b[0m \u001b[0mrepresentation\u001b[0m\u001b[1;33m=\u001b[0m\u001b[1;32mNone\u001b[0m\u001b[1;33m)\u001b[0m \u001b[1;33m->\u001b[0m \u001b[0mboost\u001b[0m\u001b[1;33m:\u001b[0m\u001b[1;33m:\u001b[0m\u001b[0mvariant\u001b[0m\u001b[1;33m<\u001b[0m \u001b[0mIfcGeom\u001b[0m\u001b[1;33m:\u001b[0m\u001b[1;33m:\u001b[0m\u001b[0mElement\u001b[0m \u001b[1;33m*\u001b[0m\u001b[1;33m,\u001b[0m\u001b[0mIfcGeom\u001b[0m\u001b[1;33m:\u001b[0m\u001b[1;33m:\u001b[0m\u001b[0mRepresentation\u001b[0m\u001b[1;33m:\u001b[0m\u001b[1;33m:\u001b[0m\u001b[0mRepresentation\u001b[0m \u001b[1;33m*\u001b[0m\u001b[1;33m,\u001b[0m\u001b[0mIfcGeom\u001b[0m\u001b[1;33m:\u001b[0m\u001b[1;33m:\u001b[0m\u001b[0mTransformation\u001b[0m \u001b[1;33m*\u001b[0m \u001b[1;33m>\u001b[0m\u001b[1;33m\u001b[0m\u001b[1;33m\u001b[0m\u001b[0m\n\u001b[0;32m   6049\u001b[0m     \u001b[0mcreate_shape\u001b[0m\u001b[1;33m(\u001b[0m\u001b[0mSettings\u001b[0m \u001b[0msettings\u001b[0m\u001b[1;33m,\u001b[0m \u001b[0mentity_instance\u001b[0m \u001b[0minstance\u001b[0m\u001b[1;33m)\u001b[0m \u001b[1;33m->\u001b[0m \u001b[0mboost\u001b[0m\u001b[1;33m:\u001b[0m\u001b[1;33m:\u001b[0m\u001b[0mvariant\u001b[0m\u001b[1;33m<\u001b[0m \u001b[0mIfcGeom\u001b[0m\u001b[1;33m:\u001b[0m\u001b[1;33m:\u001b[0m\u001b[0mElement\u001b[0m \u001b[1;33m*\u001b[0m\u001b[1;33m,\u001b[0m\u001b[0mIfcGeom\u001b[0m\u001b[1;33m:\u001b[0m\u001b[1;33m:\u001b[0m\u001b[0mRepresentation\u001b[0m\u001b[1;33m:\u001b[0m\u001b[1;33m:\u001b[0m\u001b[0mRepresentation\u001b[0m \u001b[1;33m*\u001b[0m\u001b[1;33m,\u001b[0m\u001b[0mIfcGeom\u001b[0m\u001b[1;33m:\u001b[0m\u001b[1;33m:\u001b[0m\u001b[0mTransformation\u001b[0m \u001b[1;33m*\u001b[0m \u001b[1;33m>\u001b[0m\u001b[1;33m\u001b[0m\u001b[1;33m\u001b[0m\u001b[0m\n\u001b[0;32m   6050\u001b[0m     \"\"\"\n\u001b[1;32m-> 6051\u001b[1;33m     \u001b[1;32mreturn\u001b[0m \u001b[0m_ifcopenshell_wrapper\u001b[0m\u001b[1;33m.\u001b[0m\u001b[0mcreate_shape\u001b[0m\u001b[1;33m(\u001b[0m\u001b[1;33m*\u001b[0m\u001b[0margs\u001b[0m\u001b[1;33m)\u001b[0m\u001b[1;33m\u001b[0m\u001b[1;33m\u001b[0m\u001b[0m\n\u001b[0m",
      "\u001b[1;31mRuntimeError\u001b[0m: Failed to process shape"
     ]
    },
    {
     "data": {
      "image/png": "[encoded data removed]",
      "text/plain": [
       "<Figure size 640x480 with 1 Axes>"
      ]
     },
     "metadata": {},
     "output_type": "display_data"
    }
   ],
   "source": [
    "import ifcopenshell\n",
    "import ifcopenshell.geom as geom\n",
    "import numpy as np\n",
    "import matplotlib.pyplot as plt\n",
    "\n",
    "test_cases = []\n",
    "test_cases.append(\"Clothoid_100.0_10.0_0.0_0.5_1_Meter\")\n",
    "test_cases.append(\"Clothoid_100.0_10.0_0.0_-0.5_1_Meter\")\n",
    "test_cases.append(\"Clothoid_100.0_10.0_0.5_0.0_1_Meter\")\n",
    "test_cases.append(\"Clothoid_100.0_10.0_-0.5_0.0_1_Meter\")\n",
    "test_cases.append(\"Clothoid_100.0_10.0_0.5_1.0_1_Meter\")\n",
    "test_cases.append(\"Clothoid_100.0_10.0_-0.5_-1.0_1_Meter\")\n",
    "test_cases.append(\"Clothoid_100.0_10.0_1.0_0.5_1_Meter\")\n",
    "test_cases.append(\"Clothoid_100.0_10.0_-1.0_-0.5_1_Meter\")\n",
    "\n",
    "for test_case in test_cases:\n",
    "    model = ifcopenshell.open(\"F:/IFC-Rail-Unit-Test-Reference-Code/alignment_testset/IFC-WithGeneratedGeometry/GENERATED__VerticalAlignment_\" + test_case + \".ifc\")\n",
    "    results_file = \"F:/IFC-Rail-Unit-Test-Reference-Code/alignment_testset/ToolboxProcessed/VerticalAlignment/Clothoid/\" + test_case + \".txt\"\n",
    "    with open(results_file,'r') as f:\n",
    "        lines = f.readlines()[2:] # skip the first two header lines\n",
    "    \n",
    "    x_values = []\n",
    "    z_values = []\n",
    "    for line in lines:\n",
    "        s,x,z = map(float,line.split())\n",
    "        x_values.append(x)\n",
    "        z_values.append(z)\n",
    "    \n",
    "    fig1 = plt.figure().add_subplot()\n",
    "    fig1.plot(x_values,z_values,label=\"RailRoom\",linewidth=5)\n",
    "\n",
    "    curves = model.by_type(\"IfcGradientCurve\",False)\n",
    "   \n",
    "    settings = geom.settings()\n",
    "    \n",
    "    \n",
    "    for curve in curves:\n",
    "        shape = geom.create_shape(settings,curve)\n",
    "        verts = shape.verts\n",
    "        verts = np.array(verts).reshape((-1,3))\n",
    "        x,y,z = verts.T\n",
    "        fig1.plot(x,z,label=\"IfcOpenShell\")\n",
    "        \n",
    "    fig1.set_title(test_case)\n",
    "    fig1.legend(loc=\"upper left\")\n",
    "    fig1.axis(\"square\")\n",
    "    fig1.set_xlabel(\"X\")\n",
    "    fig1.set_ylabel(\"Y\")\n",
    "    fig1.grid(True)\n",
    "    plt.show()\n"
   ]
  },
  {
   "cell_type": "code",
   "execution_count": null,
   "id": "205cda4e-6694-46db-a565-291cebab9f02",
   "metadata": {},
   "outputs": [],
   "source": []
  },
  {
   "cell_type": "code",
   "execution_count": null,
   "id": "1df07eca-3997-4588-9960-c9e0d70589e9",
   "metadata": {},
   "outputs": [],
   "source": []
  }
 ],
 "metadata": {
  "kernelspec": {
   "display_name": "Python 3 (ipykernel)",
   "language": "python",
   "name": "python3"
  },
  "language_info": {
   "codemirror_mode": {
    "name": "ipython",
    "version": 3
   },
   "file_extension": ".py",
   "mimetype": "text/x-python",
   "name": "python",
   "nbconvert_exporter": "python",
   "pygments_lexer": "ipython3",
   "version": "3.11.7"
  }
 },
 "nbformat": 4,
 "nbformat_minor": 5
}
