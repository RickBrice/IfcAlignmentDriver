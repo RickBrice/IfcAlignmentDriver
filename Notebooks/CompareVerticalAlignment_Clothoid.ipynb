{
 "cells": [
  {
   "cell_type": "markdown",
   "id": "8e758af5-96bc-4ef0-82da-504894c6189c",
   "metadata": {},
   "source": [
    "Creates a graphical comparison of vertical clothoid from IFC-Rail-Unit-Test-Reference-Code and IfcOpenShell"
   ]
  },
  {
   "cell_type": "code",
   "execution_count": 1,
   "id": "07246861-6de3-4291-9645-7b33c51049b8",
   "metadata": {},
   "outputs": [
    {
     "ename": "ValueError",
     "evalue": "not enough values to unpack (expected 4, got 3)",
     "output_type": "error",
     "traceback": [
      "\u001b[1;31m---------------------------------------------------------------------------\u001b[0m",
      "\u001b[1;31mValueError\u001b[0m                                Traceback (most recent call last)",
      "Cell \u001b[1;32mIn[1], line 25\u001b[0m\n\u001b[0;32m     23\u001b[0m z_values \u001b[38;5;241m=\u001b[39m []\n\u001b[0;32m     24\u001b[0m \u001b[38;5;28;01mfor\u001b[39;00m line \u001b[38;5;129;01min\u001b[39;00m lines:\n\u001b[1;32m---> 25\u001b[0m     s,x,y,z \u001b[38;5;241m=\u001b[39m \u001b[38;5;28mmap\u001b[39m(\u001b[38;5;28mfloat\u001b[39m,line\u001b[38;5;241m.\u001b[39msplit())\n\u001b[0;32m     26\u001b[0m     x_values\u001b[38;5;241m.\u001b[39mappend(x)\n\u001b[0;32m     27\u001b[0m     z_values\u001b[38;5;241m.\u001b[39mappend(z)\n",
      "\u001b[1;31mValueError\u001b[0m: not enough values to unpack (expected 4, got 3)"
     ]
    }
   ],
   "source": [
    "import ifcopenshell\n",
    "import ifcopenshell.geom as geom\n",
    "import numpy as np\n",
    "import matplotlib.pyplot as plt\n",
    "\n",
    "test_cases = []\n",
    "test_cases.append(\"Clothoid_100.0_10.0_0.0_0.5_1_Meter\")\n",
    "test_cases.append(\"Clothoid_100.0_10.0_0.0_-0.5_1_Meter\")\n",
    "test_cases.append(\"Clothoid_100.0_10.0_0.5_0.0_1_Meter\")\n",
    "test_cases.append(\"Clothoid_100.0_10.0_-0.5_0.0_1_Meter\")\n",
    "test_cases.append(\"Clothoid_100.0_10.0_0.5_1.0_1_Meter\")\n",
    "test_cases.append(\"Clothoid_100.0_10.0_-0.5_-1.0_1_Meter\")\n",
    "test_cases.append(\"Clothoid_100.0_10.0_1.0_0.5_1_Meter\")\n",
    "test_cases.append(\"Clothoid_100.0_10.0_-1.0_-0.5_1_Meter\")\n",
    "\n",
    "for test_case in test_cases:\n",
    "    model = ifcopenshell.open(\"F:/IFC-Rail-Unit-Test-Reference-Code/alignment_testset/IFC-WithGeneratedGeometry/GENERATED__VerticalAlignment_\" + test_case + \".ifc\")\n",
    "    results_file = \"F:/IFC-Rail-Unit-Test-Reference-Code/alignment_testset/ToolboxProcessed/VerticalAlignment/Clothoid/\" + test_case + \".txt\"\n",
    "    with open(results_file,'r') as f:\n",
    "        lines = f.readlines()[2:] # skip the first two header lines\n",
    "    \n",
    "    x_values = []\n",
    "    z_values = []\n",
    "    for line in lines:\n",
    "        s,x,z = map(float,line.split())\n",
    "        x_values.append(x)\n",
    "        z_values.append(z)\n",
    "    \n",
    "    fig1 = plt.figure().add_subplot()\n",
    "    fig1.plot(x_values,z_values,label=\"RailRoom\",marker=\"o\")\n",
    "\n",
    "    curves = model.by_type(\"IfcGradientCurve\",False)\n",
    "   \n",
    "    settings = geom.settings()\n",
    "    \n",
    "    \n",
    "    for curve in curves:\n",
    "        shape = geom.create_shape(settings,curve)\n",
    "        verts = shape.verts\n",
    "        verts = np.array(verts).reshape((-1,3))\n",
    "        x,y,z = verts.T\n",
    "        fig1.plot(x,z,label=\"IfcOpenShell\")\n",
    "        \n",
    "    fig1.set_title(test_case)\n",
    "    fig1.legend(loc=\"upper left\")\n",
    "    fig1.axis(\"square\")\n",
    "    fig1.set_xlabel(\"X\")\n",
    "    fig1.set_ylabel(\"Y\")\n",
    "    fig1.grid(True)\n",
    "    plt.show()\n"
   ]
  },
  {
   "cell_type": "code",
   "execution_count": null,
   "id": "205cda4e-6694-46db-a565-291cebab9f02",
   "metadata": {},
   "outputs": [],
   "source": []
  },
  {
   "cell_type": "code",
   "execution_count": null,
   "id": "1df07eca-3997-4588-9960-c9e0d70589e9",
   "metadata": {},
   "outputs": [],
   "source": []
  }
 ],
 "metadata": {
  "kernelspec": {
   "display_name": "Python 3 (ipykernel)",
   "language": "python",
   "name": "python3"
  },
  "language_info": {
   "codemirror_mode": {
    "name": "ipython",
    "version": 3
   },
   "file_extension": ".py",
   "mimetype": "text/x-python",
   "name": "python",
   "nbconvert_exporter": "python",
   "pygments_lexer": "ipython3",
   "version": "3.12.1"
  }
 },
 "nbformat": 4,
 "nbformat_minor": 5
}
