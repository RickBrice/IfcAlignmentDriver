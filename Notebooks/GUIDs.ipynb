{
 "cells": [
  {
   "cell_type": "code",
   "execution_count": 9,
   "id": "28803495-1321-4dbc-98da-d1644a67518b",
   "metadata": {},
   "outputs": [
    {
     "name": "stdout",
     "output_type": "stream",
     "text": [
      "Compressed GUID: 2ds0B3uCv5aeM1JDdIVORi\n",
      "GUID: a7d802c3-e0ce-4592-8581-4cd9d27d86ec\n"
     ]
    }
   ],
   "source": [
    "import ifcopenshell\n",
    "\n",
    "guid = ifcopenshell.guid.new()\n",
    "print(f\"Compressed GUID: {guid}\")\n",
    "print(f\"GUID: {ifcopenshell.guid.split(ifcopenshell.guid.expand(guid))}\")\n"
   ]
  },
  {
   "cell_type": "code",
   "execution_count": null,
   "id": "95cea10e-f337-4d0b-a2a7-8837d436fb30",
   "metadata": {},
   "outputs": [],
   "source": []
  }
 ],
 "metadata": {
  "kernelspec": {
   "display_name": "Python 3 (ipykernel)",
   "language": "python",
   "name": "python3"
  },
  "language_info": {
   "codemirror_mode": {
    "name": "ipython",
    "version": 3
   },
   "file_extension": ".py",
   "mimetype": "text/x-python",
   "name": "python",
   "nbconvert_exporter": "python",
   "pygments_lexer": "ipython3",
   "version": "3.11.7"
  }
 },
 "nbformat": 4,
 "nbformat_minor": 5
}
