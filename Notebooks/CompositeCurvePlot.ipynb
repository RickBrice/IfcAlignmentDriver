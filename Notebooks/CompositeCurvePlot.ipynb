{
 "cells": [
  {
   "cell_type": "code",
   "execution_count": 2,
   "id": "07246861-6de3-4291-9645-7b33c51049b8",
   "metadata": {},
   "outputs": [
    {
     "ename": "SyntaxError",
     "evalue": "(unicode error) 'unicodeescape' codec can't decode bytes in position 2-3: truncated \\UXXXXXXXX escape (4070302644.py, line 9)",
     "output_type": "error",
     "traceback": [
      "\u001b[1;36m  Cell \u001b[1;32mIn[2], line 9\u001b[1;36m\u001b[0m\n\u001b[1;33m    model = ifcopenshell.open(\"C:\\Users\\bricer\\OneDrive - Washington State Department of Transportation\\Desktop\\00_LRT_BIM-Station_Platform edge SB LRT Track.ifc\")\u001b[0m\n\u001b[1;37m                                                                                                                                                                  ^\u001b[0m\n\u001b[1;31mSyntaxError\u001b[0m\u001b[1;31m:\u001b[0m (unicode error) 'unicodeescape' codec can't decode bytes in position 2-3: truncated \\UXXXXXXXX escape\n"
     ]
    }
   ],
   "source": [
    "import ifcopenshell\n",
    "import ifcopenshell.geom as geom\n",
    "import numpy as np\n",
    "import matplotlib.pyplot as plt\n",
    "\n",
    "#model = ifcopenshell.open(\"F:/IfcAlignmentDriver/TestFiles/Alignment_only_v1.ifc\")\n",
    "#model = ifcopenshell.open(\"F:/IfcAlignmentDriver/TestFiles/github_min_example_IfcFixedReferenceSweptAreaSolid_IFC4x3_ADD2.ifc\")\n",
    "#model = ifcopenshell.open(\"F:/IfcAlignmentDriver/TestFiles/github_issue_5502_example_4.ifc\")\n",
    "model = ifcopenshell.open(\"F:/IfcAlignmentDriver/TestFiles/00_LRT_BIM-Station_Platform edge SB LRT Track.ifc\")\n",
    "\n",
    "curves = model.by_type(\"IfcCompositeCurve\",False)\n",
    "\n",
    "settings = geom.settings()\n",
    "\n",
    "fig1 = plt.figure().add_subplot()\n",
    "\n",
    "for curve in curves:\n",
    "    print(curve)\n",
    "    shape = geom.create_shape(settings,curve)\n",
    "    verts = shape.verts\n",
    "    verts = np.array(verts).reshape((-1,3))\n",
    "    x,y,z = verts.T\n",
    "    fig1.plot(x,y,label=\"#\" + str(curve.id()))\n",
    "    \n",
    "fig1.set_title(\"IfcCompositeCurve\")\n",
    "fig1.legend(loc=\"upper left\")\n",
    "#fig1.axis(\"square\")\n",
    "fig1.set_xlabel(\"X (East)\")\n",
    "fig1.set_ylabel(\"Y (North)\")\n",
    "fig1.grid(True)\n",
    "plt.show()\n"
   ]
  },
  {
   "cell_type": "code",
   "execution_count": null,
   "id": "205cda4e-6694-46db-a565-291cebab9f02",
   "metadata": {},
   "outputs": [],
   "source": []
  },
  {
   "cell_type": "code",
   "execution_count": null,
   "id": "1df07eca-3997-4588-9960-c9e0d70589e9",
   "metadata": {},
   "outputs": [],
   "source": []
  }
 ],
 "metadata": {
  "kernelspec": {
   "display_name": "Python 3 (ipykernel)",
   "language": "python",
   "name": "python3"
  },
  "language_info": {
   "codemirror_mode": {
    "name": "ipython",
    "version": 3
   },
   "file_extension": ".py",
   "mimetype": "text/x-python",
   "name": "python",
   "nbconvert_exporter": "python",
   "pygments_lexer": "ipython3",
   "version": "3.11.7"
  }
 },
 "nbformat": 4,
 "nbformat_minor": 5
}
